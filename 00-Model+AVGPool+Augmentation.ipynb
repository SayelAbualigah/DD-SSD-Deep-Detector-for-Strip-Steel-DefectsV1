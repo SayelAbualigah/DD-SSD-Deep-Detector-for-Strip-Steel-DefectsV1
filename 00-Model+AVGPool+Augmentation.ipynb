{
 "cells": [
  {
   "cell_type": "code",
   "execution_count": 42,
   "id": "06e6c4e9",
   "metadata": {},
   "outputs": [],
   "source": [
    "import pandas as pd\n",
    "import xgboost as xgb\n",
    "import numpy as np\n",
    "from sklearn.model_selection import train_test_split\n",
    "from sklearn import metrics\n",
    "from sklearn.metrics import confusion_matrix\n",
    "from sklearn.model_selection import KFold\n",
    "from sklearn import svm\n",
    "import tensorflow as tf\n",
    "from tensorflow.keras.models import Sequential  \n",
    "from tensorflow.keras.layers import *\n",
    "from tensorflow import keras\n",
    "\n",
    "from tensorflow.keras.callbacks import EarlyStopping\n",
    "from tensorflow.keras.callbacks import ModelCheckpoint\n",
    "from tensorflow.keras import regularizers\n",
    "from tensorflow.keras.models import Model, Sequential\n",
    "from tensorflow.keras.layers import Dense, Flatten, Conv2D, MaxPooling2D\n",
    "from sklearn.preprocessing import StandardScaler,LabelBinarizer\n",
    "import matplotlib.pyplot as plt\n",
    "import seaborn as sns\n",
    "import plotly.express as px\n",
    "from sklearn import metrics\n",
    "from sklearn import preprocessing\n",
    "\n",
    "\n",
    "import pandas as pd\n",
    "import numpy as np\n",
    "from sklearn.preprocessing import LabelEncoder\n",
    "from keras.wrappers.scikit_learn import KerasClassifier\n",
    "from keras.utils import np_utils\n",
    "from keras.models import Sequential\n",
    "from keras.layers import Dense, Dropout\n",
    "from keras.callbacks import EarlyStopping\n",
    "kf = KFold(n_splits=10)"
   ]
  },
  {
   "cell_type": "code",
   "execution_count": null,
   "id": "c32e31c9",
   "metadata": {},
   "outputs": [],
   "source": []
  },
  {
   "cell_type": "code",
   "execution_count": 43,
   "id": "c5b4da16",
   "metadata": {},
   "outputs": [],
   "source": [
    " #data generated from augmented  using xception with augmentation\n",
    "d_1 = pd.read_csv(\"features_extraction_Xception+augmentation.csv\")\n",
    "\n",
    "#data generated from augmented  using VGG16 with augmentation\n",
    "d_2 = pd.read_csv(\"features_extraction_VGG16+augmentation.csv\")\n",
    "\n",
    "#data generated from augmented  using ResNet50 with augmentation\n",
    "d_3 = pd.read_csv(\"features_extraction_ResNet50+augmentation.csv\")\n",
    "\n",
    "#data generated from augmented  using InceptionV3 with augmentation\n",
    "d_4 = pd.read_csv(\"features_extraction_InceptionV3+augmentation.csv\")\n",
    "\n",
    "#data generated from augmented  using DensNet201 with augmentation\n",
    "d_5 = pd.read_csv(\"features_extraction_DenseNet201+augmentation.csv\")"
   ]
  },
  {
   "cell_type": "code",
   "execution_count": 77,
   "id": "b6cfe00b",
   "metadata": {},
   "outputs": [
    {
     "data": {
      "application/vnd.plotly.v1+json": {
       "config": {
        "plotlyServerURL": "https://plot.ly"
       },
       "data": [
        {
         "domain": {
          "x": [
           0,
           1
          ],
          "y": [
           0,
           1
          ]
         },
         "hovertemplate": "label=%{label}<br>value=%{value}<extra></extra>",
         "labels": [
          "red iron",
          "surface scratch",
          "iron sheet ash",
          "oxide scale of plate system",
          "slag inclusion",
          "oxide scale of temperature system",
          "finishing roll printing"
         ],
         "legendgroup": "",
         "name": "",
         "showlegend": true,
         "type": "pie",
         "values": [
          397,
          300,
          292,
          268,
          238,
          203,
          203
         ]
        }
       ],
       "layout": {
        "legend": {
         "tracegroupgap": 0
        },
        "margin": {
         "t": 60
        },
        "template": {
         "data": {
          "bar": [
           {
            "error_x": {
             "color": "#2a3f5f"
            },
            "error_y": {
             "color": "#2a3f5f"
            },
            "marker": {
             "line": {
              "color": "#E5ECF6",
              "width": 0.5
             },
             "pattern": {
              "fillmode": "overlay",
              "size": 10,
              "solidity": 0.2
             }
            },
            "type": "bar"
           }
          ],
          "barpolar": [
           {
            "marker": {
             "line": {
              "color": "#E5ECF6",
              "width": 0.5
             },
             "pattern": {
              "fillmode": "overlay",
              "size": 10,
              "solidity": 0.2
             }
            },
            "type": "barpolar"
           }
          ],
          "carpet": [
           {
            "aaxis": {
             "endlinecolor": "#2a3f5f",
             "gridcolor": "white",
             "linecolor": "white",
             "minorgridcolor": "white",
             "startlinecolor": "#2a3f5f"
            },
            "baxis": {
             "endlinecolor": "#2a3f5f",
             "gridcolor": "white",
             "linecolor": "white",
             "minorgridcolor": "white",
             "startlinecolor": "#2a3f5f"
            },
            "type": "carpet"
           }
          ],
          "choropleth": [
           {
            "colorbar": {
             "outlinewidth": 0,
             "ticks": ""
            },
            "type": "choropleth"
           }
          ],
          "contour": [
           {
            "colorbar": {
             "outlinewidth": 0,
             "ticks": ""
            },
            "colorscale": [
             [
              0,
              "#0d0887"
             ],
             [
              0.1111111111111111,
              "#46039f"
             ],
             [
              0.2222222222222222,
              "#7201a8"
             ],
             [
              0.3333333333333333,
              "#9c179e"
             ],
             [
              0.4444444444444444,
              "#bd3786"
             ],
             [
              0.5555555555555556,
              "#d8576b"
             ],
             [
              0.6666666666666666,
              "#ed7953"
             ],
             [
              0.7777777777777778,
              "#fb9f3a"
             ],
             [
              0.8888888888888888,
              "#fdca26"
             ],
             [
              1,
              "#f0f921"
             ]
            ],
            "type": "contour"
           }
          ],
          "contourcarpet": [
           {
            "colorbar": {
             "outlinewidth": 0,
             "ticks": ""
            },
            "type": "contourcarpet"
           }
          ],
          "heatmap": [
           {
            "colorbar": {
             "outlinewidth": 0,
             "ticks": ""
            },
            "colorscale": [
             [
              0,
              "#0d0887"
             ],
             [
              0.1111111111111111,
              "#46039f"
             ],
             [
              0.2222222222222222,
              "#7201a8"
             ],
             [
              0.3333333333333333,
              "#9c179e"
             ],
             [
              0.4444444444444444,
              "#bd3786"
             ],
             [
              0.5555555555555556,
              "#d8576b"
             ],
             [
              0.6666666666666666,
              "#ed7953"
             ],
             [
              0.7777777777777778,
              "#fb9f3a"
             ],
             [
              0.8888888888888888,
              "#fdca26"
             ],
             [
              1,
              "#f0f921"
             ]
            ],
            "type": "heatmap"
           }
          ],
          "heatmapgl": [
           {
            "colorbar": {
             "outlinewidth": 0,
             "ticks": ""
            },
            "colorscale": [
             [
              0,
              "#0d0887"
             ],
             [
              0.1111111111111111,
              "#46039f"
             ],
             [
              0.2222222222222222,
              "#7201a8"
             ],
             [
              0.3333333333333333,
              "#9c179e"
             ],
             [
              0.4444444444444444,
              "#bd3786"
             ],
             [
              0.5555555555555556,
              "#d8576b"
             ],
             [
              0.6666666666666666,
              "#ed7953"
             ],
             [
              0.7777777777777778,
              "#fb9f3a"
             ],
             [
              0.8888888888888888,
              "#fdca26"
             ],
             [
              1,
              "#f0f921"
             ]
            ],
            "type": "heatmapgl"
           }
          ],
          "histogram": [
           {
            "marker": {
             "pattern": {
              "fillmode": "overlay",
              "size": 10,
              "solidity": 0.2
             }
            },
            "type": "histogram"
           }
          ],
          "histogram2d": [
           {
            "colorbar": {
             "outlinewidth": 0,
             "ticks": ""
            },
            "colorscale": [
             [
              0,
              "#0d0887"
             ],
             [
              0.1111111111111111,
              "#46039f"
             ],
             [
              0.2222222222222222,
              "#7201a8"
             ],
             [
              0.3333333333333333,
              "#9c179e"
             ],
             [
              0.4444444444444444,
              "#bd3786"
             ],
             [
              0.5555555555555556,
              "#d8576b"
             ],
             [
              0.6666666666666666,
              "#ed7953"
             ],
             [
              0.7777777777777778,
              "#fb9f3a"
             ],
             [
              0.8888888888888888,
              "#fdca26"
             ],
             [
              1,
              "#f0f921"
             ]
            ],
            "type": "histogram2d"
           }
          ],
          "histogram2dcontour": [
           {
            "colorbar": {
             "outlinewidth": 0,
             "ticks": ""
            },
            "colorscale": [
             [
              0,
              "#0d0887"
             ],
             [
              0.1111111111111111,
              "#46039f"
             ],
             [
              0.2222222222222222,
              "#7201a8"
             ],
             [
              0.3333333333333333,
              "#9c179e"
             ],
             [
              0.4444444444444444,
              "#bd3786"
             ],
             [
              0.5555555555555556,
              "#d8576b"
             ],
             [
              0.6666666666666666,
              "#ed7953"
             ],
             [
              0.7777777777777778,
              "#fb9f3a"
             ],
             [
              0.8888888888888888,
              "#fdca26"
             ],
             [
              1,
              "#f0f921"
             ]
            ],
            "type": "histogram2dcontour"
           }
          ],
          "mesh3d": [
           {
            "colorbar": {
             "outlinewidth": 0,
             "ticks": ""
            },
            "type": "mesh3d"
           }
          ],
          "parcoords": [
           {
            "line": {
             "colorbar": {
              "outlinewidth": 0,
              "ticks": ""
             }
            },
            "type": "parcoords"
           }
          ],
          "pie": [
           {
            "automargin": true,
            "type": "pie"
           }
          ],
          "scatter": [
           {
            "marker": {
             "colorbar": {
              "outlinewidth": 0,
              "ticks": ""
             }
            },
            "type": "scatter"
           }
          ],
          "scatter3d": [
           {
            "line": {
             "colorbar": {
              "outlinewidth": 0,
              "ticks": ""
             }
            },
            "marker": {
             "colorbar": {
              "outlinewidth": 0,
              "ticks": ""
             }
            },
            "type": "scatter3d"
           }
          ],
          "scattercarpet": [
           {
            "marker": {
             "colorbar": {
              "outlinewidth": 0,
              "ticks": ""
             }
            },
            "type": "scattercarpet"
           }
          ],
          "scattergeo": [
           {
            "marker": {
             "colorbar": {
              "outlinewidth": 0,
              "ticks": ""
             }
            },
            "type": "scattergeo"
           }
          ],
          "scattergl": [
           {
            "marker": {
             "colorbar": {
              "outlinewidth": 0,
              "ticks": ""
             }
            },
            "type": "scattergl"
           }
          ],
          "scattermapbox": [
           {
            "marker": {
             "colorbar": {
              "outlinewidth": 0,
              "ticks": ""
             }
            },
            "type": "scattermapbox"
           }
          ],
          "scatterpolar": [
           {
            "marker": {
             "colorbar": {
              "outlinewidth": 0,
              "ticks": ""
             }
            },
            "type": "scatterpolar"
           }
          ],
          "scatterpolargl": [
           {
            "marker": {
             "colorbar": {
              "outlinewidth": 0,
              "ticks": ""
             }
            },
            "type": "scatterpolargl"
           }
          ],
          "scatterternary": [
           {
            "marker": {
             "colorbar": {
              "outlinewidth": 0,
              "ticks": ""
             }
            },
            "type": "scatterternary"
           }
          ],
          "surface": [
           {
            "colorbar": {
             "outlinewidth": 0,
             "ticks": ""
            },
            "colorscale": [
             [
              0,
              "#0d0887"
             ],
             [
              0.1111111111111111,
              "#46039f"
             ],
             [
              0.2222222222222222,
              "#7201a8"
             ],
             [
              0.3333333333333333,
              "#9c179e"
             ],
             [
              0.4444444444444444,
              "#bd3786"
             ],
             [
              0.5555555555555556,
              "#d8576b"
             ],
             [
              0.6666666666666666,
              "#ed7953"
             ],
             [
              0.7777777777777778,
              "#fb9f3a"
             ],
             [
              0.8888888888888888,
              "#fdca26"
             ],
             [
              1,
              "#f0f921"
             ]
            ],
            "type": "surface"
           }
          ],
          "table": [
           {
            "cells": {
             "fill": {
              "color": "#EBF0F8"
             },
             "line": {
              "color": "white"
             }
            },
            "header": {
             "fill": {
              "color": "#C8D4E3"
             },
             "line": {
              "color": "white"
             }
            },
            "type": "table"
           }
          ]
         },
         "layout": {
          "annotationdefaults": {
           "arrowcolor": "#2a3f5f",
           "arrowhead": 0,
           "arrowwidth": 1
          },
          "autotypenumbers": "strict",
          "coloraxis": {
           "colorbar": {
            "outlinewidth": 0,
            "ticks": ""
           }
          },
          "colorscale": {
           "diverging": [
            [
             0,
             "#8e0152"
            ],
            [
             0.1,
             "#c51b7d"
            ],
            [
             0.2,
             "#de77ae"
            ],
            [
             0.3,
             "#f1b6da"
            ],
            [
             0.4,
             "#fde0ef"
            ],
            [
             0.5,
             "#f7f7f7"
            ],
            [
             0.6,
             "#e6f5d0"
            ],
            [
             0.7,
             "#b8e186"
            ],
            [
             0.8,
             "#7fbc41"
            ],
            [
             0.9,
             "#4d9221"
            ],
            [
             1,
             "#276419"
            ]
           ],
           "sequential": [
            [
             0,
             "#0d0887"
            ],
            [
             0.1111111111111111,
             "#46039f"
            ],
            [
             0.2222222222222222,
             "#7201a8"
            ],
            [
             0.3333333333333333,
             "#9c179e"
            ],
            [
             0.4444444444444444,
             "#bd3786"
            ],
            [
             0.5555555555555556,
             "#d8576b"
            ],
            [
             0.6666666666666666,
             "#ed7953"
            ],
            [
             0.7777777777777778,
             "#fb9f3a"
            ],
            [
             0.8888888888888888,
             "#fdca26"
            ],
            [
             1,
             "#f0f921"
            ]
           ],
           "sequentialminus": [
            [
             0,
             "#0d0887"
            ],
            [
             0.1111111111111111,
             "#46039f"
            ],
            [
             0.2222222222222222,
             "#7201a8"
            ],
            [
             0.3333333333333333,
             "#9c179e"
            ],
            [
             0.4444444444444444,
             "#bd3786"
            ],
            [
             0.5555555555555556,
             "#d8576b"
            ],
            [
             0.6666666666666666,
             "#ed7953"
            ],
            [
             0.7777777777777778,
             "#fb9f3a"
            ],
            [
             0.8888888888888888,
             "#fdca26"
            ],
            [
             1,
             "#f0f921"
            ]
           ]
          },
          "colorway": [
           "#636efa",
           "#EF553B",
           "#00cc96",
           "#ab63fa",
           "#FFA15A",
           "#19d3f3",
           "#FF6692",
           "#B6E880",
           "#FF97FF",
           "#FECB52"
          ],
          "font": {
           "color": "#2a3f5f"
          },
          "geo": {
           "bgcolor": "white",
           "lakecolor": "white",
           "landcolor": "#E5ECF6",
           "showlakes": true,
           "showland": true,
           "subunitcolor": "white"
          },
          "hoverlabel": {
           "align": "left"
          },
          "hovermode": "closest",
          "mapbox": {
           "style": "light"
          },
          "paper_bgcolor": "white",
          "plot_bgcolor": "#E5ECF6",
          "polar": {
           "angularaxis": {
            "gridcolor": "white",
            "linecolor": "white",
            "ticks": ""
           },
           "bgcolor": "#E5ECF6",
           "radialaxis": {
            "gridcolor": "white",
            "linecolor": "white",
            "ticks": ""
           }
          },
          "scene": {
           "xaxis": {
            "backgroundcolor": "#E5ECF6",
            "gridcolor": "white",
            "gridwidth": 2,
            "linecolor": "white",
            "showbackground": true,
            "ticks": "",
            "zerolinecolor": "white"
           },
           "yaxis": {
            "backgroundcolor": "#E5ECF6",
            "gridcolor": "white",
            "gridwidth": 2,
            "linecolor": "white",
            "showbackground": true,
            "ticks": "",
            "zerolinecolor": "white"
           },
           "zaxis": {
            "backgroundcolor": "#E5ECF6",
            "gridcolor": "white",
            "gridwidth": 2,
            "linecolor": "white",
            "showbackground": true,
            "ticks": "",
            "zerolinecolor": "white"
           }
          },
          "shapedefaults": {
           "line": {
            "color": "#2a3f5f"
           }
          },
          "ternary": {
           "aaxis": {
            "gridcolor": "white",
            "linecolor": "white",
            "ticks": ""
           },
           "baxis": {
            "gridcolor": "white",
            "linecolor": "white",
            "ticks": ""
           },
           "bgcolor": "#E5ECF6",
           "caxis": {
            "gridcolor": "white",
            "linecolor": "white",
            "ticks": ""
           }
          },
          "title": {
           "x": 0.05
          },
          "xaxis": {
           "automargin": true,
           "gridcolor": "white",
           "linecolor": "white",
           "ticks": "",
           "title": {
            "standoff": 15
           },
           "zerolinecolor": "white",
           "zerolinewidth": 2
          },
          "yaxis": {
           "automargin": true,
           "gridcolor": "white",
           "linecolor": "white",
           "ticks": "",
           "title": {
            "standoff": 15
           },
           "zerolinecolor": "white",
           "zerolinewidth": 2
          }
         }
        }
       }
      },
      "text/html": [
       "<div>                            <div id=\"50ab7c01-92ab-460f-b5dc-522161402f90\" class=\"plotly-graph-div\" style=\"height:525px; width:100%;\"></div>            <script type=\"text/javascript\">                require([\"plotly\"], function(Plotly) {                    window.PLOTLYENV=window.PLOTLYENV || {};                                    if (document.getElementById(\"50ab7c01-92ab-460f-b5dc-522161402f90\")) {                    Plotly.newPlot(                        \"50ab7c01-92ab-460f-b5dc-522161402f90\",                        [{\"domain\":{\"x\":[0.0,1.0],\"y\":[0.0,1.0]},\"hovertemplate\":\"label=%{label}<br>value=%{value}<extra></extra>\",\"labels\":[\"red iron\",\"surface scratch\",\"iron sheet ash\",\"oxide scale of plate system\",\"slag inclusion\",\"oxide scale of temperature system\",\"finishing roll printing\"],\"legendgroup\":\"\",\"name\":\"\",\"showlegend\":true,\"values\":[397,300,292,268,238,203,203],\"type\":\"pie\"}],                        {\"template\":{\"data\":{\"bar\":[{\"error_x\":{\"color\":\"#2a3f5f\"},\"error_y\":{\"color\":\"#2a3f5f\"},\"marker\":{\"line\":{\"color\":\"#E5ECF6\",\"width\":0.5},\"pattern\":{\"fillmode\":\"overlay\",\"size\":10,\"solidity\":0.2}},\"type\":\"bar\"}],\"barpolar\":[{\"marker\":{\"line\":{\"color\":\"#E5ECF6\",\"width\":0.5},\"pattern\":{\"fillmode\":\"overlay\",\"size\":10,\"solidity\":0.2}},\"type\":\"barpolar\"}],\"carpet\":[{\"aaxis\":{\"endlinecolor\":\"#2a3f5f\",\"gridcolor\":\"white\",\"linecolor\":\"white\",\"minorgridcolor\":\"white\",\"startlinecolor\":\"#2a3f5f\"},\"baxis\":{\"endlinecolor\":\"#2a3f5f\",\"gridcolor\":\"white\",\"linecolor\":\"white\",\"minorgridcolor\":\"white\",\"startlinecolor\":\"#2a3f5f\"},\"type\":\"carpet\"}],\"choropleth\":[{\"colorbar\":{\"outlinewidth\":0,\"ticks\":\"\"},\"type\":\"choropleth\"}],\"contour\":[{\"colorbar\":{\"outlinewidth\":0,\"ticks\":\"\"},\"colorscale\":[[0.0,\"#0d0887\"],[0.1111111111111111,\"#46039f\"],[0.2222222222222222,\"#7201a8\"],[0.3333333333333333,\"#9c179e\"],[0.4444444444444444,\"#bd3786\"],[0.5555555555555556,\"#d8576b\"],[0.6666666666666666,\"#ed7953\"],[0.7777777777777778,\"#fb9f3a\"],[0.8888888888888888,\"#fdca26\"],[1.0,\"#f0f921\"]],\"type\":\"contour\"}],\"contourcarpet\":[{\"colorbar\":{\"outlinewidth\":0,\"ticks\":\"\"},\"type\":\"contourcarpet\"}],\"heatmap\":[{\"colorbar\":{\"outlinewidth\":0,\"ticks\":\"\"},\"colorscale\":[[0.0,\"#0d0887\"],[0.1111111111111111,\"#46039f\"],[0.2222222222222222,\"#7201a8\"],[0.3333333333333333,\"#9c179e\"],[0.4444444444444444,\"#bd3786\"],[0.5555555555555556,\"#d8576b\"],[0.6666666666666666,\"#ed7953\"],[0.7777777777777778,\"#fb9f3a\"],[0.8888888888888888,\"#fdca26\"],[1.0,\"#f0f921\"]],\"type\":\"heatmap\"}],\"heatmapgl\":[{\"colorbar\":{\"outlinewidth\":0,\"ticks\":\"\"},\"colorscale\":[[0.0,\"#0d0887\"],[0.1111111111111111,\"#46039f\"],[0.2222222222222222,\"#7201a8\"],[0.3333333333333333,\"#9c179e\"],[0.4444444444444444,\"#bd3786\"],[0.5555555555555556,\"#d8576b\"],[0.6666666666666666,\"#ed7953\"],[0.7777777777777778,\"#fb9f3a\"],[0.8888888888888888,\"#fdca26\"],[1.0,\"#f0f921\"]],\"type\":\"heatmapgl\"}],\"histogram\":[{\"marker\":{\"pattern\":{\"fillmode\":\"overlay\",\"size\":10,\"solidity\":0.2}},\"type\":\"histogram\"}],\"histogram2d\":[{\"colorbar\":{\"outlinewidth\":0,\"ticks\":\"\"},\"colorscale\":[[0.0,\"#0d0887\"],[0.1111111111111111,\"#46039f\"],[0.2222222222222222,\"#7201a8\"],[0.3333333333333333,\"#9c179e\"],[0.4444444444444444,\"#bd3786\"],[0.5555555555555556,\"#d8576b\"],[0.6666666666666666,\"#ed7953\"],[0.7777777777777778,\"#fb9f3a\"],[0.8888888888888888,\"#fdca26\"],[1.0,\"#f0f921\"]],\"type\":\"histogram2d\"}],\"histogram2dcontour\":[{\"colorbar\":{\"outlinewidth\":0,\"ticks\":\"\"},\"colorscale\":[[0.0,\"#0d0887\"],[0.1111111111111111,\"#46039f\"],[0.2222222222222222,\"#7201a8\"],[0.3333333333333333,\"#9c179e\"],[0.4444444444444444,\"#bd3786\"],[0.5555555555555556,\"#d8576b\"],[0.6666666666666666,\"#ed7953\"],[0.7777777777777778,\"#fb9f3a\"],[0.8888888888888888,\"#fdca26\"],[1.0,\"#f0f921\"]],\"type\":\"histogram2dcontour\"}],\"mesh3d\":[{\"colorbar\":{\"outlinewidth\":0,\"ticks\":\"\"},\"type\":\"mesh3d\"}],\"parcoords\":[{\"line\":{\"colorbar\":{\"outlinewidth\":0,\"ticks\":\"\"}},\"type\":\"parcoords\"}],\"pie\":[{\"automargin\":true,\"type\":\"pie\"}],\"scatter\":[{\"marker\":{\"colorbar\":{\"outlinewidth\":0,\"ticks\":\"\"}},\"type\":\"scatter\"}],\"scatter3d\":[{\"line\":{\"colorbar\":{\"outlinewidth\":0,\"ticks\":\"\"}},\"marker\":{\"colorbar\":{\"outlinewidth\":0,\"ticks\":\"\"}},\"type\":\"scatter3d\"}],\"scattercarpet\":[{\"marker\":{\"colorbar\":{\"outlinewidth\":0,\"ticks\":\"\"}},\"type\":\"scattercarpet\"}],\"scattergeo\":[{\"marker\":{\"colorbar\":{\"outlinewidth\":0,\"ticks\":\"\"}},\"type\":\"scattergeo\"}],\"scattergl\":[{\"marker\":{\"colorbar\":{\"outlinewidth\":0,\"ticks\":\"\"}},\"type\":\"scattergl\"}],\"scattermapbox\":[{\"marker\":{\"colorbar\":{\"outlinewidth\":0,\"ticks\":\"\"}},\"type\":\"scattermapbox\"}],\"scatterpolar\":[{\"marker\":{\"colorbar\":{\"outlinewidth\":0,\"ticks\":\"\"}},\"type\":\"scatterpolar\"}],\"scatterpolargl\":[{\"marker\":{\"colorbar\":{\"outlinewidth\":0,\"ticks\":\"\"}},\"type\":\"scatterpolargl\"}],\"scatterternary\":[{\"marker\":{\"colorbar\":{\"outlinewidth\":0,\"ticks\":\"\"}},\"type\":\"scatterternary\"}],\"surface\":[{\"colorbar\":{\"outlinewidth\":0,\"ticks\":\"\"},\"colorscale\":[[0.0,\"#0d0887\"],[0.1111111111111111,\"#46039f\"],[0.2222222222222222,\"#7201a8\"],[0.3333333333333333,\"#9c179e\"],[0.4444444444444444,\"#bd3786\"],[0.5555555555555556,\"#d8576b\"],[0.6666666666666666,\"#ed7953\"],[0.7777777777777778,\"#fb9f3a\"],[0.8888888888888888,\"#fdca26\"],[1.0,\"#f0f921\"]],\"type\":\"surface\"}],\"table\":[{\"cells\":{\"fill\":{\"color\":\"#EBF0F8\"},\"line\":{\"color\":\"white\"}},\"header\":{\"fill\":{\"color\":\"#C8D4E3\"},\"line\":{\"color\":\"white\"}},\"type\":\"table\"}]},\"layout\":{\"annotationdefaults\":{\"arrowcolor\":\"#2a3f5f\",\"arrowhead\":0,\"arrowwidth\":1},\"autotypenumbers\":\"strict\",\"coloraxis\":{\"colorbar\":{\"outlinewidth\":0,\"ticks\":\"\"}},\"colorscale\":{\"diverging\":[[0,\"#8e0152\"],[0.1,\"#c51b7d\"],[0.2,\"#de77ae\"],[0.3,\"#f1b6da\"],[0.4,\"#fde0ef\"],[0.5,\"#f7f7f7\"],[0.6,\"#e6f5d0\"],[0.7,\"#b8e186\"],[0.8,\"#7fbc41\"],[0.9,\"#4d9221\"],[1,\"#276419\"]],\"sequential\":[[0.0,\"#0d0887\"],[0.1111111111111111,\"#46039f\"],[0.2222222222222222,\"#7201a8\"],[0.3333333333333333,\"#9c179e\"],[0.4444444444444444,\"#bd3786\"],[0.5555555555555556,\"#d8576b\"],[0.6666666666666666,\"#ed7953\"],[0.7777777777777778,\"#fb9f3a\"],[0.8888888888888888,\"#fdca26\"],[1.0,\"#f0f921\"]],\"sequentialminus\":[[0.0,\"#0d0887\"],[0.1111111111111111,\"#46039f\"],[0.2222222222222222,\"#7201a8\"],[0.3333333333333333,\"#9c179e\"],[0.4444444444444444,\"#bd3786\"],[0.5555555555555556,\"#d8576b\"],[0.6666666666666666,\"#ed7953\"],[0.7777777777777778,\"#fb9f3a\"],[0.8888888888888888,\"#fdca26\"],[1.0,\"#f0f921\"]]},\"colorway\":[\"#636efa\",\"#EF553B\",\"#00cc96\",\"#ab63fa\",\"#FFA15A\",\"#19d3f3\",\"#FF6692\",\"#B6E880\",\"#FF97FF\",\"#FECB52\"],\"font\":{\"color\":\"#2a3f5f\"},\"geo\":{\"bgcolor\":\"white\",\"lakecolor\":\"white\",\"landcolor\":\"#E5ECF6\",\"showlakes\":true,\"showland\":true,\"subunitcolor\":\"white\"},\"hoverlabel\":{\"align\":\"left\"},\"hovermode\":\"closest\",\"mapbox\":{\"style\":\"light\"},\"paper_bgcolor\":\"white\",\"plot_bgcolor\":\"#E5ECF6\",\"polar\":{\"angularaxis\":{\"gridcolor\":\"white\",\"linecolor\":\"white\",\"ticks\":\"\"},\"bgcolor\":\"#E5ECF6\",\"radialaxis\":{\"gridcolor\":\"white\",\"linecolor\":\"white\",\"ticks\":\"\"}},\"scene\":{\"xaxis\":{\"backgroundcolor\":\"#E5ECF6\",\"gridcolor\":\"white\",\"gridwidth\":2,\"linecolor\":\"white\",\"showbackground\":true,\"ticks\":\"\",\"zerolinecolor\":\"white\"},\"yaxis\":{\"backgroundcolor\":\"#E5ECF6\",\"gridcolor\":\"white\",\"gridwidth\":2,\"linecolor\":\"white\",\"showbackground\":true,\"ticks\":\"\",\"zerolinecolor\":\"white\"},\"zaxis\":{\"backgroundcolor\":\"#E5ECF6\",\"gridcolor\":\"white\",\"gridwidth\":2,\"linecolor\":\"white\",\"showbackground\":true,\"ticks\":\"\",\"zerolinecolor\":\"white\"}},\"shapedefaults\":{\"line\":{\"color\":\"#2a3f5f\"}},\"ternary\":{\"aaxis\":{\"gridcolor\":\"white\",\"linecolor\":\"white\",\"ticks\":\"\"},\"baxis\":{\"gridcolor\":\"white\",\"linecolor\":\"white\",\"ticks\":\"\"},\"bgcolor\":\"#E5ECF6\",\"caxis\":{\"gridcolor\":\"white\",\"linecolor\":\"white\",\"ticks\":\"\"}},\"title\":{\"x\":0.05},\"xaxis\":{\"automargin\":true,\"gridcolor\":\"white\",\"linecolor\":\"white\",\"ticks\":\"\",\"title\":{\"standoff\":15},\"zerolinecolor\":\"white\",\"zerolinewidth\":2},\"yaxis\":{\"automargin\":true,\"gridcolor\":\"white\",\"linecolor\":\"white\",\"ticks\":\"\",\"title\":{\"standoff\":15},\"zerolinecolor\":\"white\",\"zerolinewidth\":2}}},\"legend\":{\"tracegroupgap\":0},\"margin\":{\"t\":60}},                        {\"responsive\": true}                    ).then(function(){\n",
       "                            \n",
       "var gd = document.getElementById('50ab7c01-92ab-460f-b5dc-522161402f90');\n",
       "var x = new MutationObserver(function (mutations, observer) {{\n",
       "        var display = window.getComputedStyle(gd).display;\n",
       "        if (!display || display === 'none') {{\n",
       "            console.log([gd, 'removed!']);\n",
       "            Plotly.purge(gd);\n",
       "            observer.disconnect();\n",
       "        }}\n",
       "}});\n",
       "\n",
       "// Listen for the removal of the full notebook cells\n",
       "var notebookContainer = gd.closest('#notebook-container');\n",
       "if (notebookContainer) {{\n",
       "    x.observe(notebookContainer, {childList: true});\n",
       "}}\n",
       "\n",
       "// Listen for the clearing of the current output cell\n",
       "var outputEl = gd.closest('.output');\n",
       "if (outputEl) {{\n",
       "    x.observe(outputEl, {childList: true});\n",
       "}}\n",
       "\n",
       "                        })                };                });            </script>        </div>"
      ]
     },
     "metadata": {},
     "output_type": "display_data"
    }
   ],
   "source": [
    "#Distrebution of label Count \n",
    "labels=d_1['label'].value_counts()\n",
    "#pie chart \n",
    "fig = px.pie(d_1, values=labels, names=labels.index)\n",
    "fig.show()"
   ]
  },
  {
   "cell_type": "code",
   "execution_count": 45,
   "id": "e6f80f10",
   "metadata": {},
   "outputs": [],
   "source": [
    "def My_model(X,y):\n",
    "    #split Data into train test\n",
    "    X_train, X_test, y_train, y_test = train_test_split(X, y, test_size=0.20, random_state=42,shuffle=True)\n",
    "    #onehot encoding for labels ,train and test\n",
    "    le = preprocessing.LabelEncoder()\n",
    "    le.fit(y_test)\n",
    "    test_labels_encoded = le.transform(y_test)\n",
    "    le.fit(y_train)\n",
    "    train_labels_encoded = le.transform(y_train)\n",
    "    #propoes Model\n",
    "    model=Sequential()\n",
    "    model.add(Dense(512,input_shape=X_train.shape,activation='relu')) \n",
    "    model.add(Dropout(0.20)) #dropout for avoiding over fitting\n",
    "\n",
    "    model.add(Dense(units=256,activation='relu'))\n",
    "    model.add(Dropout(0.20))\n",
    "\n",
    "    model.add(Dense(units=128,activation='relu'))\n",
    "    model.add(Dropout(0.10))\n",
    "\n",
    "    model.add(Dense(units=7,activation='softmax')) #for 7 classes\n",
    "    model.compile(loss='sparse_categorical_crossentropy',optimizer='adam',metrics=['accuracy'])\n",
    "    es = EarlyStopping(monitor='val_loss', mode='min', verbose=1, patience=5)#early stopping to avoid overfitting\n",
    "    mc = ModelCheckpoint('modelalista', monitor='val_loss', mode='min', verbose=1)\n",
    "    history_1=model.fit(X_train,train_labels_encoded,callbacks = [es,mc],batch_size=10, epochs=500,\n",
    "                        validation_split=0.20)#fit data for data and tak 20% of train data for validation\n",
    "    # generate accuracy and loss plots\n",
    "    plt.plot(history_1.history['accuracy'])\n",
    "    plt.plot(history_1.history['val_accuracy'])\n",
    "    plt.title('Model accuracy')\n",
    "    plt.ylabel('Accuracy')\n",
    "    plt.xlabel('Epoch')\n",
    "    plt.legend(['Train', 'Test'], loc='upper left')\n",
    "    plt.show()\n",
    "    plt.plot(history_1.history['loss'])\n",
    "    plt.plot(history_1.history['val_loss'])\n",
    "    plt.title('Model loss')\n",
    "    plt.ylabel('Loss')\n",
    "    plt.xlabel('Epoch')\n",
    "    plt.legend(['Train', 'Test'], loc='upper left')\n",
    "    plt.show()\n",
    "    Y_pred=model.predict_classes(X_test)\n",
    "    Scores=metrics_scores(Y_pred,y_test,le)\n",
    "    return Scores"
   ]
  },
  {
   "cell_type": "code",
   "execution_count": 46,
   "id": "ca341f13",
   "metadata": {},
   "outputs": [],
   "source": [
    "def metrics_scores(y_pred,y_test,le): #for compute the most important  metrics \n",
    "    prediction1 = le.inverse_transform(y_pred)\n",
    "    print (\"Accuracy = \", metrics.accuracy_score(y_test, prediction1))\n",
    "    print (\"f1 micro = \", metrics.f1_score(y_test, prediction1,average='micro'))\n",
    "    print (\"f1 macro = \", metrics.f1_score(y_test, prediction1,average='macro'))\n",
    "    print (\"f1 all = \", metrics.f1_score(y_test, prediction1,average=None))\n",
    "    print (\"prec micro = \", metrics.precision_score(y_test, prediction1,average='micro'))\n",
    "    print (\"prec macro = \", metrics.precision_score(y_test, prediction1,average='macro'))\n",
    "    print (\"prec all = \", metrics.precision_score(y_test, prediction1,average=None))\n",
    "\n",
    "    print (\"recall micro = \", metrics.recall_score(y_test, prediction1,average='micro'))\n",
    "    print (\"recall macro = \", metrics.recall_score(y_test, prediction1,average='macro'))\n",
    "    print (\"recall all = \", metrics.recall_score(y_test, prediction1,average=None))\n",
    "\n",
    "    cm = confusion_matrix(y_test, prediction1)#generate confusion matrix\n",
    "    #print(cm)\n",
    "    \n",
    "    print(sns.heatmap(cm, annot=True))#print confusion matrix as heatmap\n"
   ]
  },
  {
   "cell_type": "markdown",
   "id": "03878035",
   "metadata": {},
   "source": [
    "# bulid the model using Xception generated features then evaluate the model"
   ]
  },
  {
   "cell_type": "code",
   "execution_count": 47,
   "id": "d1df250b",
   "metadata": {
    "scrolled": false
   },
   "outputs": [
    {
     "name": "stdout",
     "output_type": "stream",
     "text": [
      "Epoch 1/500\n",
      "WARNING:tensorflow:Model was constructed with shape (None, 1520, 2049) for input KerasTensor(type_spec=TensorSpec(shape=(None, 1520, 2049), dtype=tf.float32, name='dense_40_input'), name='dense_40_input', description=\"created by layer 'dense_40_input'\"), but it was called on an input with incompatible shape (None, 2049).\n",
      "WARNING:tensorflow:Model was constructed with shape (None, 1520, 2049) for input KerasTensor(type_spec=TensorSpec(shape=(None, 1520, 2049), dtype=tf.float32, name='dense_40_input'), name='dense_40_input', description=\"created by layer 'dense_40_input'\"), but it was called on an input with incompatible shape (None, 2049).\n",
      "118/122 [============================>.] - ETA: 0s - loss: 11.7128 - accuracy: 0.2322WARNING:tensorflow:Model was constructed with shape (None, 1520, 2049) for input KerasTensor(type_spec=TensorSpec(shape=(None, 1520, 2049), dtype=tf.float32, name='dense_40_input'), name='dense_40_input', description=\"created by layer 'dense_40_input'\"), but it was called on an input with incompatible shape (None, 2049).\n",
      "122/122 [==============================] - 7s 19ms/step - loss: 11.4951 - accuracy: 0.2348 - val_loss: 1.0303 - val_accuracy: 0.5559\n",
      "\n",
      "Epoch 00001: saving model to modelalista\n",
      "INFO:tensorflow:Assets written to: modelalista\\assets\n",
      "Epoch 2/500\n",
      "122/122 [==============================] - 1s 9ms/step - loss: 1.5857 - accuracy: 0.4294 - val_loss: 1.1554 - val_accuracy: 0.4934\n",
      "\n",
      "Epoch 00002: saving model to modelalista\n",
      "INFO:tensorflow:Assets written to: modelalista\\assets\n",
      "Epoch 3/500\n",
      "122/122 [==============================] - 1s 9ms/step - loss: 1.3631 - accuracy: 0.4841 - val_loss: 0.8174 - val_accuracy: 0.7007\n",
      "\n",
      "Epoch 00003: saving model to modelalista\n",
      "INFO:tensorflow:Assets written to: modelalista\\assets\n",
      "Epoch 4/500\n",
      "122/122 [==============================] - 1s 9ms/step - loss: 0.9948 - accuracy: 0.6058 - val_loss: 0.6534 - val_accuracy: 0.8388\n",
      "\n",
      "Epoch 00004: saving model to modelalista\n",
      "INFO:tensorflow:Assets written to: modelalista\\assets\n",
      "Epoch 5/500\n",
      "122/122 [==============================] - 1s 8ms/step - loss: 0.8738 - accuracy: 0.6466 - val_loss: 0.4819 - val_accuracy: 0.8191\n",
      "\n",
      "Epoch 00005: saving model to modelalista\n",
      "INFO:tensorflow:Assets written to: modelalista\\assets\n",
      "Epoch 6/500\n",
      "122/122 [==============================] - 1s 9ms/step - loss: 0.7032 - accuracy: 0.7256 - val_loss: 0.4029 - val_accuracy: 0.9112\n",
      "\n",
      "Epoch 00006: saving model to modelalista\n",
      "INFO:tensorflow:Assets written to: modelalista\\assets\n",
      "Epoch 7/500\n",
      "122/122 [==============================] - 1s 9ms/step - loss: 0.5467 - accuracy: 0.7814 - val_loss: 0.3798 - val_accuracy: 0.8289\n",
      "\n",
      "Epoch 00007: saving model to modelalista\n",
      "INFO:tensorflow:Assets written to: modelalista\\assets\n",
      "Epoch 8/500\n",
      "122/122 [==============================] - 1s 9ms/step - loss: 0.4931 - accuracy: 0.8315 - val_loss: 0.2395 - val_accuracy: 0.9309\n",
      "\n",
      "Epoch 00008: saving model to modelalista\n",
      "INFO:tensorflow:Assets written to: modelalista\\assets\n",
      "Epoch 9/500\n",
      "122/122 [==============================] - 2s 13ms/step - loss: 0.3260 - accuracy: 0.8920 - val_loss: 0.3735 - val_accuracy: 0.8717\n",
      "\n",
      "Epoch 00009: saving model to modelalista\n",
      "INFO:tensorflow:Assets written to: modelalista\\assets\n",
      "Epoch 10/500\n",
      "122/122 [==============================] - 1s 9ms/step - loss: 0.3251 - accuracy: 0.8758 - val_loss: 0.1158 - val_accuracy: 0.9671\n",
      "\n",
      "Epoch 00010: saving model to modelalista\n",
      "INFO:tensorflow:Assets written to: modelalista\\assets\n",
      "Epoch 11/500\n",
      "122/122 [==============================] - 1s 9ms/step - loss: 0.2072 - accuracy: 0.9278 - val_loss: 0.1097 - val_accuracy: 0.9638\n",
      "\n",
      "Epoch 00011: saving model to modelalista\n",
      "INFO:tensorflow:Assets written to: modelalista\\assets\n",
      "Epoch 12/500\n",
      "122/122 [==============================] - 1s 8ms/step - loss: 0.1892 - accuracy: 0.9372 - val_loss: 0.0959 - val_accuracy: 0.9704\n",
      "\n",
      "Epoch 00012: saving model to modelalista\n",
      "INFO:tensorflow:Assets written to: modelalista\\assets\n",
      "Epoch 13/500\n",
      "122/122 [==============================] - 1s 10ms/step - loss: 0.1904 - accuracy: 0.9383 - val_loss: 0.1278 - val_accuracy: 0.9572\n",
      "\n",
      "Epoch 00013: saving model to modelalista\n",
      "INFO:tensorflow:Assets written to: modelalista\\assets\n",
      "Epoch 14/500\n",
      "122/122 [==============================] - 1s 11ms/step - loss: 0.2157 - accuracy: 0.9278 - val_loss: 0.1710 - val_accuracy: 0.9507\n",
      "\n",
      "Epoch 00014: saving model to modelalista\n",
      "INFO:tensorflow:Assets written to: modelalista\\assets\n",
      "Epoch 15/500\n",
      "122/122 [==============================] - 1s 10ms/step - loss: 0.1679 - accuracy: 0.9525 - val_loss: 0.2164 - val_accuracy: 0.9408\n",
      "\n",
      "Epoch 00015: saving model to modelalista\n",
      "INFO:tensorflow:Assets written to: modelalista\\assets\n",
      "Epoch 16/500\n",
      "122/122 [==============================] - 1s 8ms/step - loss: 0.1567 - accuracy: 0.9363 - val_loss: 0.1432 - val_accuracy: 0.9671\n",
      "\n",
      "Epoch 00016: saving model to modelalista\n",
      "INFO:tensorflow:Assets written to: modelalista\\assets\n",
      "Epoch 17/500\n",
      "122/122 [==============================] - 1s 10ms/step - loss: 0.1527 - accuracy: 0.9608 - val_loss: 0.1228 - val_accuracy: 0.9671\n",
      "\n",
      "Epoch 00017: saving model to modelalista\n",
      "INFO:tensorflow:Assets written to: modelalista\\assets\n",
      "Epoch 00017: early stopping\n"
     ]
    },
    {
     "data": {
      "image/png": "[encoded data removed]",
      "text/plain": [
       "<Figure size 432x288 with 1 Axes>"
      ]
     },
     "metadata": {
      "needs_background": "light"
     },
     "output_type": "display_data"
    },
    {
     "data": {
      "image/png": "[encoded data removed]",
      "text/plain": [
       "<Figure size 432x288 with 1 Axes>"
      ]
     },
     "metadata": {
      "needs_background": "light"
     },
     "output_type": "display_data"
    },
    {
     "name": "stdout",
     "output_type": "stream",
     "text": [
      "WARNING:tensorflow:Model was constructed with shape (None, 1520, 2049) for input KerasTensor(type_spec=TensorSpec(shape=(None, 1520, 2049), dtype=tf.float32, name='dense_40_input'), name='dense_40_input', description=\"created by layer 'dense_40_input'\"), but it was called on an input with incompatible shape (None, 2049).\n"
     ]
    },
    {
     "name": "stderr",
     "output_type": "stream",
     "text": [
      "C:\\Users\\mrmot\\anaconda3\\lib\\site-packages\\keras\\engine\\sequential.py:450: UserWarning:\n",
      "\n",
      "`model.predict_classes()` is deprecated and will be removed after 2021-01-01. Please use instead:* `np.argmax(model.predict(x), axis=-1)`,   if your model does multi-class classification   (e.g. if it uses a `softmax` last-layer activation).* `(model.predict(x) > 0.5).astype(\"int32\")`,   if your model does binary classification   (e.g. if it uses a `sigmoid` last-layer activation).\n",
      "\n"
     ]
    },
    {
     "name": "stdout",
     "output_type": "stream",
     "text": [
      "Accuracy =  0.952755905511811\n",
      "f1 micro =  0.952755905511811\n",
      "f1 macro =  0.9491780084198743\n",
      "f1 all =  [0.93670886 0.95384615 0.95145631 0.89189189 0.95035461 0.99029126\n",
      " 0.96969697]\n",
      "prec micro =  0.952755905511811\n",
      "prec macro =  0.943117648728445\n",
      "prec all =  [0.88095238 1.         0.98       0.80487805 1.         0.98076923\n",
      " 0.95522388]\n",
      "recall micro =  0.952755905511811\n",
      "recall macro =  0.9609019711128479\n",
      "recall all =  [1.         0.91176471 0.9245283  1.         0.90540541 1.\n",
      " 0.98461538]\n",
      "AxesSubplot(0.125,0.125;0.62x0.755)\n"
     ]
    },
    {
     "data": {
      "image/png": "[encoded data removed]",
      "text/plain": [
       "<Figure size 432x288 with 2 Axes>"
      ]
     },
     "metadata": {
      "needs_background": "light"
     },
     "output_type": "display_data"
    }
   ],
   "source": [
    "X_1 = d_1.drop(columns = ['label']).values\n",
    "y_1 = d_1['label'].values\n",
    "Scores=My_model(X_1,y_1)\n",
    "\n"
   ]
  },
  {
   "cell_type": "markdown",
   "id": "2dd75648",
   "metadata": {},
   "source": [
    "# bulid the model using VGG16 generated features the evaluate the model"
   ]
  },
  {
   "cell_type": "code",
   "execution_count": 48,
   "id": "52acab36",
   "metadata": {
    "scrolled": false
   },
   "outputs": [
    {
     "name": "stdout",
     "output_type": "stream",
     "text": [
      "Epoch 1/500\n",
      "WARNING:tensorflow:Model was constructed with shape (None, 1520, 513) for input KerasTensor(type_spec=TensorSpec(shape=(None, 1520, 513), dtype=tf.float32, name='dense_44_input'), name='dense_44_input', description=\"created by layer 'dense_44_input'\"), but it was called on an input with incompatible shape (None, 513).\n",
      "WARNING:tensorflow:Model was constructed with shape (None, 1520, 513) for input KerasTensor(type_spec=TensorSpec(shape=(None, 1520, 513), dtype=tf.float32, name='dense_44_input'), name='dense_44_input', description=\"created by layer 'dense_44_input'\"), but it was called on an input with incompatible shape (None, 513).\n",
      "122/122 [==============================] - ETA: 0s - loss: 20.2988 - accuracy: 0.1671WARNING:tensorflow:Model was constructed with shape (None, 1520, 513) for input KerasTensor(type_spec=TensorSpec(shape=(None, 1520, 513), dtype=tf.float32, name='dense_44_input'), name='dense_44_input', description=\"created by layer 'dense_44_input'\"), but it was called on an input with incompatible shape (None, 513).\n",
      "122/122 [==============================] - 5s 16ms/step - loss: 20.2204 - accuracy: 0.1674 - val_loss: 1.7332 - val_accuracy: 0.2138\n",
      "\n",
      "Epoch 00001: saving model to modelalista\n",
      "INFO:tensorflow:Assets written to: modelalista\\assets\n",
      "Epoch 2/500\n",
      "122/122 [==============================] - 1s 6ms/step - loss: 2.2878 - accuracy: 0.2782 - val_loss: 1.4849 - val_accuracy: 0.4572\n",
      "\n",
      "Epoch 00002: saving model to modelalista\n",
      "INFO:tensorflow:Assets written to: modelalista\\assets\n",
      "Epoch 3/500\n",
      "122/122 [==============================] - 1s 10ms/step - loss: 1.5700 - accuracy: 0.4040 - val_loss: 1.3199 - val_accuracy: 0.3553\n",
      "\n",
      "Epoch 00003: saving model to modelalista\n",
      "INFO:tensorflow:Assets written to: modelalista\\assets\n",
      "Epoch 4/500\n",
      "122/122 [==============================] - 1s 7ms/step - loss: 1.2927 - accuracy: 0.4273 - val_loss: 1.1354 - val_accuracy: 0.5033\n",
      "\n",
      "Epoch 00004: saving model to modelalista\n",
      "INFO:tensorflow:Assets written to: modelalista\\assets\n",
      "Epoch 5/500\n",
      "122/122 [==============================] - 1s 9ms/step - loss: 1.1665 - accuracy: 0.4955 - val_loss: 0.8688 - val_accuracy: 0.6579\n",
      "\n",
      "Epoch 00005: saving model to modelalista\n",
      "INFO:tensorflow:Assets written to: modelalista\\assets\n",
      "Epoch 6/500\n",
      "122/122 [==============================] - 1s 8ms/step - loss: 1.0279 - accuracy: 0.5799 - val_loss: 0.7168 - val_accuracy: 0.7007\n",
      "\n",
      "Epoch 00006: saving model to modelalista\n",
      "INFO:tensorflow:Assets written to: modelalista\\assets\n",
      "Epoch 7/500\n",
      "122/122 [==============================] - 1s 6ms/step - loss: 0.9128 - accuracy: 0.6083 - val_loss: 0.6564 - val_accuracy: 0.7566\n",
      "\n",
      "Epoch 00007: saving model to modelalista\n",
      "INFO:tensorflow:Assets written to: modelalista\\assets\n",
      "Epoch 8/500\n",
      "122/122 [==============================] - 1s 7ms/step - loss: 0.8889 - accuracy: 0.6044 - val_loss: 0.8723 - val_accuracy: 0.5230\n",
      "\n",
      "Epoch 00008: saving model to modelalista\n",
      "INFO:tensorflow:Assets written to: modelalista\\assets\n",
      "Epoch 9/500\n",
      "122/122 [==============================] - 1s 10ms/step - loss: 0.8451 - accuracy: 0.6439 - val_loss: 0.7766 - val_accuracy: 0.6908\n",
      "\n",
      "Epoch 00009: saving model to modelalista\n",
      "INFO:tensorflow:Assets written to: modelalista\\assets\n",
      "Epoch 10/500\n",
      "122/122 [==============================] - 1s 6ms/step - loss: 0.8510 - accuracy: 0.6276 - val_loss: 0.6367 - val_accuracy: 0.6974\n",
      "\n",
      "Epoch 00010: saving model to modelalista\n",
      "INFO:tensorflow:Assets written to: modelalista\\assets\n",
      "Epoch 11/500\n",
      "122/122 [==============================] - 1s 9ms/step - loss: 0.7697 - accuracy: 0.6596 - val_loss: 0.5278 - val_accuracy: 0.8849\n",
      "\n",
      "Epoch 00011: saving model to modelalista\n",
      "INFO:tensorflow:Assets written to: modelalista\\assets\n",
      "Epoch 12/500\n",
      "122/122 [==============================] - 1s 9ms/step - loss: 0.6403 - accuracy: 0.7265 - val_loss: 0.5136 - val_accuracy: 0.7697\n",
      "\n",
      "Epoch 00012: saving model to modelalista\n",
      "INFO:tensorflow:Assets written to: modelalista\\assets\n",
      "Epoch 13/500\n",
      "122/122 [==============================] - 1s 7ms/step - loss: 0.6701 - accuracy: 0.7091 - val_loss: 0.5510 - val_accuracy: 0.7336\n",
      "\n",
      "Epoch 00013: saving model to modelalista\n",
      "INFO:tensorflow:Assets written to: modelalista\\assets\n",
      "Epoch 14/500\n",
      "122/122 [==============================] - 1s 6ms/step - loss: 0.7700 - accuracy: 0.6798 - val_loss: 0.5039 - val_accuracy: 0.7434\n",
      "\n",
      "Epoch 00014: saving model to modelalista\n",
      "INFO:tensorflow:Assets written to: modelalista\\assets\n",
      "Epoch 15/500\n",
      "122/122 [==============================] - 1s 9ms/step - loss: 0.6699 - accuracy: 0.6946 - val_loss: 0.4463 - val_accuracy: 0.8158\n",
      "\n",
      "Epoch 00015: saving model to modelalista\n",
      "INFO:tensorflow:Assets written to: modelalista\\assets\n",
      "Epoch 16/500\n",
      "122/122 [==============================] - 1s 6ms/step - loss: 0.6400 - accuracy: 0.7205 - val_loss: 0.4423 - val_accuracy: 0.7664\n",
      "\n",
      "Epoch 00016: saving model to modelalista\n",
      "INFO:tensorflow:Assets written to: modelalista\\assets\n",
      "Epoch 17/500\n",
      "122/122 [==============================] - 1s 8ms/step - loss: 0.5283 - accuracy: 0.7462 - val_loss: 0.4298 - val_accuracy: 0.8487\n",
      "\n",
      "Epoch 00017: saving model to modelalista\n",
      "INFO:tensorflow:Assets written to: modelalista\\assets\n",
      "Epoch 18/500\n",
      "122/122 [==============================] - 1s 6ms/step - loss: 0.5821 - accuracy: 0.7427 - val_loss: 0.5435 - val_accuracy: 0.7138\n",
      "\n",
      "Epoch 00018: saving model to modelalista\n",
      "INFO:tensorflow:Assets written to: modelalista\\assets\n",
      "Epoch 19/500\n",
      "122/122 [==============================] - 1s 10ms/step - loss: 0.5531 - accuracy: 0.7674 - val_loss: 0.3778 - val_accuracy: 0.7961\n",
      "\n",
      "Epoch 00019: saving model to modelalista\n",
      "INFO:tensorflow:Assets written to: modelalista\\assets\n",
      "Epoch 20/500\n",
      "122/122 [==============================] - 1s 9ms/step - loss: 0.5664 - accuracy: 0.7617 - val_loss: 0.4197 - val_accuracy: 0.7829\n",
      "\n",
      "Epoch 00020: saving model to modelalista\n",
      "INFO:tensorflow:Assets written to: modelalista\\assets\n",
      "Epoch 21/500\n",
      "122/122 [==============================] - 1s 9ms/step - loss: 0.6196 - accuracy: 0.7372 - val_loss: 0.3697 - val_accuracy: 0.8684\n",
      "\n",
      "Epoch 00021: saving model to modelalista\n",
      "INFO:tensorflow:Assets written to: modelalista\\assets\n",
      "Epoch 22/500\n",
      "122/122 [==============================] - 1s 10ms/step - loss: 0.5492 - accuracy: 0.7692 - val_loss: 0.4134 - val_accuracy: 0.7928\n",
      "\n",
      "Epoch 00022: saving model to modelalista\n",
      "INFO:tensorflow:Assets written to: modelalista\\assets\n",
      "Epoch 23/500\n",
      "122/122 [==============================] - 1s 10ms/step - loss: 0.5175 - accuracy: 0.7766 - val_loss: 0.3319 - val_accuracy: 0.8355\n",
      "\n",
      "Epoch 00023: saving model to modelalista\n",
      "INFO:tensorflow:Assets written to: modelalista\\assets\n",
      "Epoch 24/500\n",
      "122/122 [==============================] - 1s 7ms/step - loss: 0.5194 - accuracy: 0.7529 - val_loss: 0.4129 - val_accuracy: 0.8355\n",
      "\n",
      "Epoch 00024: saving model to modelalista\n",
      "INFO:tensorflow:Assets written to: modelalista\\assets\n",
      "Epoch 25/500\n",
      "122/122 [==============================] - 1s 7ms/step - loss: 0.3945 - accuracy: 0.8309 - val_loss: 0.4671 - val_accuracy: 0.7401\n",
      "\n",
      "Epoch 00025: saving model to modelalista\n",
      "INFO:tensorflow:Assets written to: modelalista\\assets\n",
      "Epoch 26/500\n",
      "122/122 [==============================] - 1s 9ms/step - loss: 0.5653 - accuracy: 0.7645 - val_loss: 0.2512 - val_accuracy: 0.9013\n",
      "\n",
      "Epoch 00026: saving model to modelalista\n",
      "INFO:tensorflow:Assets written to: modelalista\\assets\n",
      "Epoch 27/500\n",
      "122/122 [==============================] - 1s 6ms/step - loss: 0.4140 - accuracy: 0.8213 - val_loss: 0.4894 - val_accuracy: 0.8092\n",
      "\n",
      "Epoch 00027: saving model to modelalista\n",
      "INFO:tensorflow:Assets written to: modelalista\\assets\n",
      "Epoch 28/500\n",
      "122/122 [==============================] - 1s 9ms/step - loss: 0.4162 - accuracy: 0.8198 - val_loss: 0.3259 - val_accuracy: 0.8882\n",
      "\n",
      "Epoch 00028: saving model to modelalista\n",
      "INFO:tensorflow:Assets written to: modelalista\\assets\n",
      "Epoch 29/500\n",
      "122/122 [==============================] - 1s 6ms/step - loss: 0.4472 - accuracy: 0.8047 - val_loss: 0.2801 - val_accuracy: 0.9276\n",
      "\n",
      "Epoch 00029: saving model to modelalista\n",
      "INFO:tensorflow:Assets written to: modelalista\\assets\n",
      "Epoch 30/500\n",
      "122/122 [==============================] - 1s 10ms/step - loss: 0.3841 - accuracy: 0.8557 - val_loss: 0.3112 - val_accuracy: 0.8849\n",
      "\n",
      "Epoch 00030: saving model to modelalista\n",
      "INFO:tensorflow:Assets written to: modelalista\\assets\n"
     ]
    },
    {
     "name": "stdout",
     "output_type": "stream",
     "text": [
      "Epoch 31/500\n",
      "122/122 [==============================] - 1s 9ms/step - loss: 0.4237 - accuracy: 0.8102 - val_loss: 0.2316 - val_accuracy: 0.9079\n",
      "\n",
      "Epoch 00031: saving model to modelalista\n",
      "INFO:tensorflow:Assets written to: modelalista\\assets\n",
      "Epoch 32/500\n",
      "122/122 [==============================] - 1s 7ms/step - loss: 0.4025 - accuracy: 0.8335 - val_loss: 0.5106 - val_accuracy: 0.7336\n",
      "\n",
      "Epoch 00032: saving model to modelalista\n",
      "INFO:tensorflow:Assets written to: modelalista\\assets\n",
      "Epoch 33/500\n",
      "122/122 [==============================] - 1s 6ms/step - loss: 0.4645 - accuracy: 0.8066 - val_loss: 0.2438 - val_accuracy: 0.9408\n",
      "\n",
      "Epoch 00033: saving model to modelalista\n",
      "INFO:tensorflow:Assets written to: modelalista\\assets\n",
      "Epoch 34/500\n",
      "122/122 [==============================] - 1s 10ms/step - loss: 0.4009 - accuracy: 0.8339 - val_loss: 0.3026 - val_accuracy: 0.8914\n",
      "\n",
      "Epoch 00034: saving model to modelalista\n",
      "INFO:tensorflow:Assets written to: modelalista\\assets\n",
      "Epoch 35/500\n",
      "122/122 [==============================] - 1s 7ms/step - loss: 0.4206 - accuracy: 0.8314 - val_loss: 0.3338 - val_accuracy: 0.8553\n",
      "\n",
      "Epoch 00035: saving model to modelalista\n",
      "INFO:tensorflow:Assets written to: modelalista\\assets\n",
      "Epoch 36/500\n",
      "122/122 [==============================] - 1s 9ms/step - loss: 0.3060 - accuracy: 0.8795 - val_loss: 0.2171 - val_accuracy: 0.9342\n",
      "\n",
      "Epoch 00036: saving model to modelalista\n",
      "INFO:tensorflow:Assets written to: modelalista\\assets\n",
      "Epoch 37/500\n",
      "122/122 [==============================] - 1s 6ms/step - loss: 0.3573 - accuracy: 0.8474 - val_loss: 0.4110 - val_accuracy: 0.9243\n",
      "\n",
      "Epoch 00037: saving model to modelalista\n",
      "INFO:tensorflow:Assets written to: modelalista\\assets\n",
      "Epoch 38/500\n",
      "122/122 [==============================] - 1s 7ms/step - loss: 0.3390 - accuracy: 0.8699 - val_loss: 0.4209 - val_accuracy: 0.8092\n",
      "\n",
      "Epoch 00038: saving model to modelalista\n",
      "INFO:tensorflow:Assets written to: modelalista\\assets\n",
      "Epoch 39/500\n",
      "122/122 [==============================] - 1s 8ms/step - loss: 0.3347 - accuracy: 0.8751 - val_loss: 0.1707 - val_accuracy: 0.9342\n",
      "\n",
      "Epoch 00039: saving model to modelalista\n",
      "INFO:tensorflow:Assets written to: modelalista\\assets\n",
      "Epoch 40/500\n",
      "122/122 [==============================] - 1s 6ms/step - loss: 0.2732 - accuracy: 0.8874 - val_loss: 0.2621 - val_accuracy: 0.8849\n",
      "\n",
      "Epoch 00040: saving model to modelalista\n",
      "INFO:tensorflow:Assets written to: modelalista\\assets\n",
      "Epoch 41/500\n",
      "122/122 [==============================] - 1s 8ms/step - loss: 0.3580 - accuracy: 0.8613 - val_loss: 0.2215 - val_accuracy: 0.9276\n",
      "\n",
      "Epoch 00041: saving model to modelalista\n",
      "INFO:tensorflow:Assets written to: modelalista\\assets\n",
      "Epoch 42/500\n",
      "122/122 [==============================] - 1s 11ms/step - loss: 0.3015 - accuracy: 0.8801 - val_loss: 0.3748 - val_accuracy: 0.8914\n",
      "\n",
      "Epoch 00042: saving model to modelalista\n",
      "INFO:tensorflow:Assets written to: modelalista\\assets\n",
      "Epoch 43/500\n",
      "122/122 [==============================] - 1s 9ms/step - loss: 0.3113 - accuracy: 0.8852 - val_loss: 0.2163 - val_accuracy: 0.8816\n",
      "\n",
      "Epoch 00043: saving model to modelalista\n",
      "INFO:tensorflow:Assets written to: modelalista\\assets\n",
      "Epoch 44/500\n",
      "122/122 [==============================] - 1s 6ms/step - loss: 0.2837 - accuracy: 0.8696 - val_loss: 0.4622 - val_accuracy: 0.7730\n",
      "\n",
      "Epoch 00044: saving model to modelalista\n",
      "INFO:tensorflow:Assets written to: modelalista\\assets\n",
      "Epoch 00044: early stopping\n"
     ]
    },
    {
     "data": {
      "image/png": "[encoded data removed]",
      "text/plain": [
       "<Figure size 432x288 with 1 Axes>"
      ]
     },
     "metadata": {
      "needs_background": "light"
     },
     "output_type": "display_data"
    },
    {
     "data": {
      "image/png": "[encoded data removed]",
      "text/plain": [
       "<Figure size 432x288 with 1 Axes>"
      ]
     },
     "metadata": {
      "needs_background": "light"
     },
     "output_type": "display_data"
    },
    {
     "name": "stdout",
     "output_type": "stream",
     "text": [
      "WARNING:tensorflow:Model was constructed with shape (None, 1520, 513) for input KerasTensor(type_spec=TensorSpec(shape=(None, 1520, 513), dtype=tf.float32, name='dense_44_input'), name='dense_44_input', description=\"created by layer 'dense_44_input'\"), but it was called on an input with incompatible shape (None, 513).\n"
     ]
    },
    {
     "name": "stderr",
     "output_type": "stream",
     "text": [
      "C:\\Users\\mrmot\\anaconda3\\lib\\site-packages\\keras\\engine\\sequential.py:450: UserWarning:\n",
      "\n",
      "`model.predict_classes()` is deprecated and will be removed after 2021-01-01. Please use instead:* `np.argmax(model.predict(x), axis=-1)`,   if your model does multi-class classification   (e.g. if it uses a `softmax` last-layer activation).* `(model.predict(x) > 0.5).astype(\"int32\")`,   if your model does binary classification   (e.g. if it uses a `sigmoid` last-layer activation).\n",
      "\n"
     ]
    },
    {
     "name": "stdout",
     "output_type": "stream",
     "text": [
      "Accuracy =  0.7847769028871391\n",
      "f1 micro =  0.7847769028871391\n",
      "f1 macro =  0.7758885219195477\n",
      "f1 all =  [0.97368421 0.97058824 0.97087379 0.6875     0.56962025 0.33333333\n",
      " 0.92561983]\n",
      "prec micro =  0.7847769028871391\n",
      "prec macro =  0.7928940807092067\n",
      "prec all =  [0.94871795 0.97058824 1.         0.52380952 0.53571429 0.57142857\n",
      " 1.        ]\n",
      "recall micro =  0.7847769028871391\n",
      "recall macro =  0.8027035927146916\n",
      "recall all =  [1.         0.97058824 0.94339623 1.         0.60810811 0.23529412\n",
      " 0.86153846]\n",
      "AxesSubplot(0.125,0.125;0.62x0.755)\n"
     ]
    },
    {
     "data": {
      "image/png": "[encoded data removed]",
      "text/plain": [
       "<Figure size 432x288 with 2 Axes>"
      ]
     },
     "metadata": {
      "needs_background": "light"
     },
     "output_type": "display_data"
    }
   ],
   "source": [
    "X_2 = d_2.drop(columns = ['label']).values\n",
    "y_2 = d_2['label'].values\n",
    "Scores=My_model(X_2,y_2)\n",
    "\n"
   ]
  },
  {
   "cell_type": "markdown",
   "id": "bfebde2c",
   "metadata": {},
   "source": [
    "# bulid the model using ResNet generated features then evaluate the model"
   ]
  },
  {
   "cell_type": "code",
   "execution_count": 49,
   "id": "47cede66",
   "metadata": {
    "scrolled": false
   },
   "outputs": [
    {
     "name": "stdout",
     "output_type": "stream",
     "text": [
      "Epoch 1/500\n",
      "WARNING:tensorflow:Model was constructed with shape (None, 1520, 2049) for input KerasTensor(type_spec=TensorSpec(shape=(None, 1520, 2049), dtype=tf.float32, name='dense_48_input'), name='dense_48_input', description=\"created by layer 'dense_48_input'\"), but it was called on an input with incompatible shape (None, 2049).\n",
      "WARNING:tensorflow:Model was constructed with shape (None, 1520, 2049) for input KerasTensor(type_spec=TensorSpec(shape=(None, 1520, 2049), dtype=tf.float32, name='dense_48_input'), name='dense_48_input', description=\"created by layer 'dense_48_input'\"), but it was called on an input with incompatible shape (None, 2049).\n",
      "119/122 [============================>.] - ETA: 0s - loss: 11.0813 - accuracy: 0.2136WARNING:tensorflow:Model was constructed with shape (None, 1520, 2049) for input KerasTensor(type_spec=TensorSpec(shape=(None, 1520, 2049), dtype=tf.float32, name='dense_48_input'), name='dense_48_input', description=\"created by layer 'dense_48_input'\"), but it was called on an input with incompatible shape (None, 2049).\n",
      "122/122 [==============================] - 5s 18ms/step - loss: 10.9249 - accuracy: 0.2152 - val_loss: 1.5338 - val_accuracy: 0.2961\n",
      "\n",
      "Epoch 00001: saving model to modelalista\n",
      "INFO:tensorflow:Assets written to: modelalista\\assets\n",
      "Epoch 2/500\n",
      "122/122 [==============================] - 1s 9ms/step - loss: 1.7692 - accuracy: 0.3849 - val_loss: 1.3142 - val_accuracy: 0.5197\n",
      "\n",
      "Epoch 00002: saving model to modelalista\n",
      "INFO:tensorflow:Assets written to: modelalista\\assets\n",
      "Epoch 3/500\n",
      "122/122 [==============================] - 1s 9ms/step - loss: 1.2708 - accuracy: 0.4829 - val_loss: 0.9890 - val_accuracy: 0.6250\n",
      "\n",
      "Epoch 00003: saving model to modelalista\n",
      "INFO:tensorflow:Assets written to: modelalista\\assets\n",
      "Epoch 4/500\n",
      "122/122 [==============================] - 2s 14ms/step - loss: 1.2053 - accuracy: 0.4549 - val_loss: 0.8479 - val_accuracy: 0.7368\n",
      "\n",
      "Epoch 00004: saving model to modelalista\n",
      "INFO:tensorflow:Assets written to: modelalista\\assets\n",
      "Epoch 5/500\n",
      "122/122 [==============================] - 1s 11ms/step - loss: 1.0035 - accuracy: 0.5714 - val_loss: 0.7328 - val_accuracy: 0.6941\n",
      "\n",
      "Epoch 00005: saving model to modelalista\n",
      "INFO:tensorflow:Assets written to: modelalista\\assets\n",
      "Epoch 6/500\n",
      "122/122 [==============================] - 2s 14ms/step - loss: 0.9534 - accuracy: 0.6164 - val_loss: 0.9210 - val_accuracy: 0.5230\n",
      "\n",
      "Epoch 00006: saving model to modelalista\n",
      "INFO:tensorflow:Assets written to: modelalista\\assets\n",
      "Epoch 7/500\n",
      "122/122 [==============================] - 1s 9ms/step - loss: 0.9483 - accuracy: 0.6011 - val_loss: 0.7395 - val_accuracy: 0.6743\n",
      "\n",
      "Epoch 00007: saving model to modelalista\n",
      "INFO:tensorflow:Assets written to: modelalista\\assets\n",
      "Epoch 8/500\n",
      "122/122 [==============================] - 1s 7ms/step - loss: 0.8641 - accuracy: 0.6519 - val_loss: 0.6234 - val_accuracy: 0.7171\n",
      "\n",
      "Epoch 00008: saving model to modelalista\n",
      "INFO:tensorflow:Assets written to: modelalista\\assets\n",
      "Epoch 9/500\n",
      "122/122 [==============================] - 1s 11ms/step - loss: 0.8481 - accuracy: 0.6606 - val_loss: 0.5818 - val_accuracy: 0.7368\n",
      "\n",
      "Epoch 00009: saving model to modelalista\n",
      "INFO:tensorflow:Assets written to: modelalista\\assets\n",
      "Epoch 10/500\n",
      "122/122 [==============================] - 1s 9ms/step - loss: 0.7761 - accuracy: 0.6483 - val_loss: 0.5492 - val_accuracy: 0.7829\n",
      "\n",
      "Epoch 00010: saving model to modelalista\n",
      "INFO:tensorflow:Assets written to: modelalista\\assets\n",
      "Epoch 11/500\n",
      "122/122 [==============================] - 1s 10ms/step - loss: 0.7799 - accuracy: 0.6628 - val_loss: 0.5392 - val_accuracy: 0.7401\n",
      "\n",
      "Epoch 00011: saving model to modelalista\n",
      "INFO:tensorflow:Assets written to: modelalista\\assets\n",
      "Epoch 12/500\n",
      "122/122 [==============================] - 1s 8ms/step - loss: 0.7700 - accuracy: 0.6774 - val_loss: 0.5325 - val_accuracy: 0.7599\n",
      "\n",
      "Epoch 00012: saving model to modelalista\n",
      "INFO:tensorflow:Assets written to: modelalista\\assets\n",
      "Epoch 13/500\n",
      "122/122 [==============================] - 2s 14ms/step - loss: 0.6427 - accuracy: 0.7081 - val_loss: 0.3904 - val_accuracy: 0.8717\n",
      "\n",
      "Epoch 00013: saving model to modelalista\n",
      "INFO:tensorflow:Assets written to: modelalista\\assets\n",
      "Epoch 14/500\n",
      "122/122 [==============================] - 1s 8ms/step - loss: 0.5994 - accuracy: 0.7499 - val_loss: 0.6289 - val_accuracy: 0.6875\n",
      "\n",
      "Epoch 00014: saving model to modelalista\n",
      "INFO:tensorflow:Assets written to: modelalista\\assets\n",
      "Epoch 15/500\n",
      "122/122 [==============================] - 2s 14ms/step - loss: 0.5688 - accuracy: 0.7517 - val_loss: 0.5590 - val_accuracy: 0.7105\n",
      "\n",
      "Epoch 00015: saving model to modelalista\n",
      "INFO:tensorflow:Assets written to: modelalista\\assets\n",
      "Epoch 16/500\n",
      "122/122 [==============================] - 1s 8ms/step - loss: 0.5666 - accuracy: 0.7617 - val_loss: 0.4366 - val_accuracy: 0.8026\n",
      "\n",
      "Epoch 00016: saving model to modelalista\n",
      "INFO:tensorflow:Assets written to: modelalista\\assets\n",
      "Epoch 17/500\n",
      "122/122 [==============================] - 1s 10ms/step - loss: 0.5410 - accuracy: 0.7508 - val_loss: 0.4174 - val_accuracy: 0.8059\n",
      "\n",
      "Epoch 00017: saving model to modelalista\n",
      "INFO:tensorflow:Assets written to: modelalista\\assets\n",
      "Epoch 18/500\n",
      "122/122 [==============================] - 1s 9ms/step - loss: 0.5751 - accuracy: 0.7484 - val_loss: 0.3880 - val_accuracy: 0.8224\n",
      "\n",
      "Epoch 00018: saving model to modelalista\n",
      "INFO:tensorflow:Assets written to: modelalista\\assets\n",
      "Epoch 19/500\n",
      "122/122 [==============================] - 2s 14ms/step - loss: 0.6191 - accuracy: 0.7145 - val_loss: 0.5384 - val_accuracy: 0.7401\n",
      "\n",
      "Epoch 00019: saving model to modelalista\n",
      "INFO:tensorflow:Assets written to: modelalista\\assets\n",
      "Epoch 20/500\n",
      "122/122 [==============================] - 1s 9ms/step - loss: 0.5430 - accuracy: 0.7635 - val_loss: 0.4648 - val_accuracy: 0.7467\n",
      "\n",
      "Epoch 00020: saving model to modelalista\n",
      "INFO:tensorflow:Assets written to: modelalista\\assets\n",
      "Epoch 21/500\n",
      "122/122 [==============================] - 1s 11ms/step - loss: 0.4950 - accuracy: 0.7789 - val_loss: 0.3031 - val_accuracy: 0.8816\n",
      "\n",
      "Epoch 00021: saving model to modelalista\n",
      "INFO:tensorflow:Assets written to: modelalista\\assets\n",
      "Epoch 22/500\n",
      "122/122 [==============================] - 1s 8ms/step - loss: 0.4763 - accuracy: 0.7978 - val_loss: 0.4105 - val_accuracy: 0.8322\n",
      "\n",
      "Epoch 00022: saving model to modelalista\n",
      "INFO:tensorflow:Assets written to: modelalista\\assets\n",
      "Epoch 23/500\n",
      "122/122 [==============================] - 1s 9ms/step - loss: 0.5102 - accuracy: 0.7703 - val_loss: 0.3397 - val_accuracy: 0.8454\n",
      "\n",
      "Epoch 00023: saving model to modelalista\n",
      "INFO:tensorflow:Assets written to: modelalista\\assets\n",
      "Epoch 24/500\n",
      "122/122 [==============================] - 1s 7ms/step - loss: 0.4820 - accuracy: 0.8111 - val_loss: 0.6744 - val_accuracy: 0.6151\n",
      "\n",
      "Epoch 00024: saving model to modelalista\n",
      "INFO:tensorflow:Assets written to: modelalista\\assets\n",
      "Epoch 25/500\n",
      "122/122 [==============================] - 2s 13ms/step - loss: 0.5103 - accuracy: 0.7809 - val_loss: 0.4104 - val_accuracy: 0.8059\n",
      "\n",
      "Epoch 00025: saving model to modelalista\n",
      "INFO:tensorflow:Assets written to: modelalista\\assets\n",
      "Epoch 26/500\n",
      "122/122 [==============================] - 1s 9ms/step - loss: 0.4868 - accuracy: 0.7790 - val_loss: 0.3592 - val_accuracy: 0.8980\n",
      "\n",
      "Epoch 00026: saving model to modelalista\n",
      "INFO:tensorflow:Assets written to: modelalista\\assets\n",
      "Epoch 00026: early stopping\n"
     ]
    },
    {
     "data": {
      "image/png": "[encoded data removed]",
      "text/plain": [
       "<Figure size 432x288 with 1 Axes>"
      ]
     },
     "metadata": {
      "needs_background": "light"
     },
     "output_type": "display_data"
    },
    {
     "data": {
      "image/png": "[encoded data removed]",
      "text/plain": [
       "<Figure size 432x288 with 1 Axes>"
      ]
     },
     "metadata": {
      "needs_background": "light"
     },
     "output_type": "display_data"
    },
    {
     "name": "stdout",
     "output_type": "stream",
     "text": [
      "WARNING:tensorflow:Model was constructed with shape (None, 1520, 2049) for input KerasTensor(type_spec=TensorSpec(shape=(None, 1520, 2049), dtype=tf.float32, name='dense_48_input'), name='dense_48_input', description=\"created by layer 'dense_48_input'\"), but it was called on an input with incompatible shape (None, 2049).\n"
     ]
    },
    {
     "name": "stderr",
     "output_type": "stream",
     "text": [
      "C:\\Users\\mrmot\\anaconda3\\lib\\site-packages\\keras\\engine\\sequential.py:450: UserWarning:\n",
      "\n",
      "`model.predict_classes()` is deprecated and will be removed after 2021-01-01. Please use instead:* `np.argmax(model.predict(x), axis=-1)`,   if your model does multi-class classification   (e.g. if it uses a `softmax` last-layer activation).* `(model.predict(x) > 0.5).astype(\"int32\")`,   if your model does binary classification   (e.g. if it uses a `sigmoid` last-layer activation).\n",
      "\n"
     ]
    },
    {
     "name": "stdout",
     "output_type": "stream",
     "text": [
      "Accuracy =  0.9028871391076115\n",
      "f1 micro =  0.9028871391076115\n",
      "f1 macro =  0.8815584395878023\n",
      "f1 all =  [0.95774648 0.97841727 0.90721649 0.57627119 0.87058824 0.90322581\n",
      " 0.97744361]\n",
      "prec micro =  0.9028871391076115\n",
      "prec macro =  0.905472616999129\n",
      "prec all =  [1.         0.95774648 1.         0.65384615 0.77083333 1.\n",
      " 0.95588235]\n",
      "recall micro =  0.9028871391076115\n",
      "recall macro =  0.8696840750114889\n",
      "recall all =  [0.91891892 1.         0.83018868 0.51515152 1.         0.82352941\n",
      " 1.        ]\n",
      "AxesSubplot(0.125,0.125;0.62x0.755)\n"
     ]
    },
    {
     "data": {
      "image/png": "[encoded data removed]",
      "text/plain": [
       "<Figure size 432x288 with 2 Axes>"
      ]
     },
     "metadata": {
      "needs_background": "light"
     },
     "output_type": "display_data"
    }
   ],
   "source": [
    "X_3 = d_3.drop(columns = ['label']).values\n",
    "y_3 = d_3['label'].values\n",
    "Scores=My_model(X_3,y_3)\n",
    "\n"
   ]
  },
  {
   "cell_type": "markdown",
   "id": "c3076ae2",
   "metadata": {},
   "source": [
    "# bulid the model using InceptionV3 generated features then evaluate the model"
   ]
  },
  {
   "cell_type": "code",
   "execution_count": 50,
   "id": "0bc0cb68",
   "metadata": {
    "scrolled": false
   },
   "outputs": [
    {
     "name": "stdout",
     "output_type": "stream",
     "text": [
      "Epoch 1/500\n",
      "WARNING:tensorflow:Model was constructed with shape (None, 1376, 2049) for input KerasTensor(type_spec=TensorSpec(shape=(None, 1376, 2049), dtype=tf.float32, name='dense_52_input'), name='dense_52_input', description=\"created by layer 'dense_52_input'\"), but it was called on an input with incompatible shape (10, 2049).\n",
      "WARNING:tensorflow:Model was constructed with shape (None, 1376, 2049) for input KerasTensor(type_spec=TensorSpec(shape=(None, 1376, 2049), dtype=tf.float32, name='dense_52_input'), name='dense_52_input', description=\"created by layer 'dense_52_input'\"), but it was called on an input with incompatible shape (10, 2049).\n",
      "110/110 [==============================] - ETA: 0s - loss: 11.5161 - accuracy: 0.3220WARNING:tensorflow:Model was constructed with shape (None, 1376, 2049) for input KerasTensor(type_spec=TensorSpec(shape=(None, 1376, 2049), dtype=tf.float32, name='dense_52_input'), name='dense_52_input', description=\"created by layer 'dense_52_input'\"), but it was called on an input with incompatible shape (None, 2049).\n",
      "110/110 [==============================] - 4s 18ms/step - loss: 11.4691 - accuracy: 0.3229 - val_loss: 0.6247 - val_accuracy: 0.7645\n",
      "\n",
      "Epoch 00001: saving model to modelalista\n",
      "INFO:tensorflow:Assets written to: modelalista\\assets\n",
      "Epoch 2/500\n",
      "110/110 [==============================] - 1s 12ms/step - loss: 1.3586 - accuracy: 0.6281 - val_loss: 0.6114 - val_accuracy: 0.7826\n",
      "\n",
      "Epoch 00002: saving model to modelalista\n",
      "INFO:tensorflow:Assets written to: modelalista\\assets\n",
      "Epoch 3/500\n",
      "110/110 [==============================] - 1s 7ms/step - loss: 0.7993 - accuracy: 0.7519 - val_loss: 0.4977 - val_accuracy: 0.8080\n",
      "\n",
      "Epoch 00003: saving model to modelalista\n",
      "INFO:tensorflow:Assets written to: modelalista\\assets\n",
      "Epoch 4/500\n",
      "110/110 [==============================] - 1s 12ms/step - loss: 0.6313 - accuracy: 0.8042 - val_loss: 0.4731 - val_accuracy: 0.8659\n",
      "\n",
      "Epoch 00004: saving model to modelalista\n",
      "INFO:tensorflow:Assets written to: modelalista\\assets\n",
      "Epoch 5/500\n",
      "110/110 [==============================] - 1s 6ms/step - loss: 0.4343 - accuracy: 0.8516 - val_loss: 0.3458 - val_accuracy: 0.8986\n",
      "\n",
      "Epoch 00005: saving model to modelalista\n",
      "INFO:tensorflow:Assets written to: modelalista\\assets\n",
      "Epoch 6/500\n",
      "110/110 [==============================] - 1s 12ms/step - loss: 0.3226 - accuracy: 0.8923 - val_loss: 0.2771 - val_accuracy: 0.9022\n",
      "\n",
      "Epoch 00006: saving model to modelalista\n",
      "INFO:tensorflow:Assets written to: modelalista\\assets\n",
      "Epoch 7/500\n",
      "110/110 [==============================] - 1s 8ms/step - loss: 0.2854 - accuracy: 0.8970 - val_loss: 0.2464 - val_accuracy: 0.9167\n",
      "\n",
      "Epoch 00007: saving model to modelalista\n",
      "INFO:tensorflow:Assets written to: modelalista\\assets\n",
      "Epoch 8/500\n",
      "110/110 [==============================] - 1s 11ms/step - loss: 0.2179 - accuracy: 0.9231 - val_loss: 0.2609 - val_accuracy: 0.8986\n",
      "\n",
      "Epoch 00008: saving model to modelalista\n",
      "INFO:tensorflow:Assets written to: modelalista\\assets\n",
      "Epoch 9/500\n",
      "110/110 [==============================] - 1s 10ms/step - loss: 0.2141 - accuracy: 0.9227 - val_loss: 0.5260 - val_accuracy: 0.8804\n",
      "\n",
      "Epoch 00009: saving model to modelalista\n",
      "INFO:tensorflow:Assets written to: modelalista\\assets\n",
      "Epoch 10/500\n",
      "110/110 [==============================] - 1s 8ms/step - loss: 0.2330 - accuracy: 0.9354 - val_loss: 0.2259 - val_accuracy: 0.9420\n",
      "\n",
      "Epoch 00010: saving model to modelalista\n",
      "INFO:tensorflow:Assets written to: modelalista\\assets\n",
      "Epoch 11/500\n",
      "110/110 [==============================] - 1s 11ms/step - loss: 0.1380 - accuracy: 0.9521 - val_loss: 0.2485 - val_accuracy: 0.9312\n",
      "\n",
      "Epoch 00011: saving model to modelalista\n",
      "INFO:tensorflow:Assets written to: modelalista\\assets\n",
      "Epoch 12/500\n",
      "110/110 [==============================] - 1s 12ms/step - loss: 0.1410 - accuracy: 0.9461 - val_loss: 0.2890 - val_accuracy: 0.9130\n",
      "\n",
      "Epoch 00012: saving model to modelalista\n",
      "INFO:tensorflow:Assets written to: modelalista\\assets\n",
      "Epoch 13/500\n",
      "110/110 [==============================] - 1s 8ms/step - loss: 0.1559 - accuracy: 0.9551 - val_loss: 0.2671 - val_accuracy: 0.9203\n",
      "\n",
      "Epoch 00013: saving model to modelalista\n",
      "INFO:tensorflow:Assets written to: modelalista\\assets\n",
      "Epoch 14/500\n",
      "110/110 [==============================] - 1s 13ms/step - loss: 0.1473 - accuracy: 0.9410 - val_loss: 0.2717 - val_accuracy: 0.9167\n",
      "\n",
      "Epoch 00014: saving model to modelalista\n",
      "INFO:tensorflow:Assets written to: modelalista\\assets\n",
      "Epoch 15/500\n",
      "110/110 [==============================] - 1s 13ms/step - loss: 0.1343 - accuracy: 0.9557 - val_loss: 0.3400 - val_accuracy: 0.8949\n",
      "\n",
      "Epoch 00015: saving model to modelalista\n",
      "INFO:tensorflow:Assets written to: modelalista\\assets\n",
      "Epoch 00015: early stopping\n"
     ]
    },
    {
     "data": {
      "image/png": "[encoded data removed]",
      "text/plain": [
       "<Figure size 432x288 with 1 Axes>"
      ]
     },
     "metadata": {
      "needs_background": "light"
     },
     "output_type": "display_data"
    },
    {
     "data": {
      "image/png": "[encoded data removed]",
      "text/plain": [
       "<Figure size 432x288 with 1 Axes>"
      ]
     },
     "metadata": {
      "needs_background": "light"
     },
     "output_type": "display_data"
    },
    {
     "name": "stderr",
     "output_type": "stream",
     "text": [
      "C:\\Users\\mrmot\\anaconda3\\lib\\site-packages\\keras\\engine\\sequential.py:450: UserWarning:\n",
      "\n",
      "`model.predict_classes()` is deprecated and will be removed after 2021-01-01. Please use instead:* `np.argmax(model.predict(x), axis=-1)`,   if your model does multi-class classification   (e.g. if it uses a `softmax` last-layer activation).* `(model.predict(x) > 0.5).astype(\"int32\")`,   if your model does binary classification   (e.g. if it uses a `sigmoid` last-layer activation).\n",
      "\n"
     ]
    },
    {
     "name": "stdout",
     "output_type": "stream",
     "text": [
      "WARNING:tensorflow:Model was constructed with shape (None, 1376, 2049) for input KerasTensor(type_spec=TensorSpec(shape=(None, 1376, 2049), dtype=tf.float32, name='dense_52_input'), name='dense_52_input', description=\"created by layer 'dense_52_input'\"), but it was called on an input with incompatible shape (None, 2049).\n",
      "Accuracy =  0.9043478260869565\n",
      "f1 micro =  0.9043478260869565\n",
      "f1 macro =  0.8950046669014402\n",
      "f1 all =  [0.98666667 0.95906433 0.87878788 0.88571429 0.88311688 0.90697674\n",
      " 0.76470588]\n",
      "prec micro =  0.9043478260869565\n",
      "prec macro =  0.9111046691403833\n",
      "prec all =  [1.         0.93181818 1.         0.96875    0.88311688 0.975\n",
      " 0.61904762]\n",
      "recall micro =  0.9043478260869565\n",
      "recall macro =  0.898878892185233\n",
      "recall all =  [0.97368421 0.98795181 0.78378378 0.81578947 0.88311688 0.84782609\n",
      " 1.        ]\n",
      "AxesSubplot(0.125,0.125;0.62x0.755)\n"
     ]
    },
    {
     "data": {
      "image/png": "[encoded data removed]",
      "text/plain": [
       "<Figure size 432x288 with 2 Axes>"
      ]
     },
     "metadata": {
      "needs_background": "light"
     },
     "output_type": "display_data"
    }
   ],
   "source": [
    "X_4 = d_4.drop(columns = ['label']).values\n",
    "y_4 = d_4['label'].values\n",
    "Scores=My_model(X_4,y_4)\n",
    "\n"
   ]
  },
  {
   "cell_type": "markdown",
   "id": "24ae5eaa",
   "metadata": {},
   "source": [
    "# bulid the model using DensNet generated features then evaluate the model"
   ]
  },
  {
   "cell_type": "code",
   "execution_count": 59,
   "id": "f53245b0",
   "metadata": {
    "scrolled": false
   },
   "outputs": [
    {
     "name": "stdout",
     "output_type": "stream",
     "text": [
      "Epoch 1/500\n",
      "WARNING:tensorflow:Model was constructed with shape (None, 1520, 1921) for input KerasTensor(type_spec=TensorSpec(shape=(None, 1520, 1921), dtype=tf.float32, name='dense_72_input'), name='dense_72_input', description=\"created by layer 'dense_72_input'\"), but it was called on an input with incompatible shape (None, 1921).\n",
      "WARNING:tensorflow:Model was constructed with shape (None, 1520, 1921) for input KerasTensor(type_spec=TensorSpec(shape=(None, 1520, 1921), dtype=tf.float32, name='dense_72_input'), name='dense_72_input', description=\"created by layer 'dense_72_input'\"), but it was called on an input with incompatible shape (None, 1921).\n",
      "113/122 [==========================>...] - ETA: 0s - loss: 11.5291 - accuracy: 0.2904WARNING:tensorflow:Model was constructed with shape (None, 1520, 1921) for input KerasTensor(type_spec=TensorSpec(shape=(None, 1520, 1921), dtype=tf.float32, name='dense_72_input'), name='dense_72_input', description=\"created by layer 'dense_72_input'\"), but it was called on an input with incompatible shape (None, 1921).\n",
      "122/122 [==============================] - 2s 7ms/step - loss: 11.0979 - accuracy: 0.2968 - val_loss: 1.4514 - val_accuracy: 0.4836\n",
      "\n",
      "Epoch 00001: saving model to modelalista\n",
      "INFO:tensorflow:Assets written to: modelalista\\assets\n",
      "Epoch 2/500\n",
      "122/122 [==============================] - 1s 5ms/step - loss: 1.6985 - accuracy: 0.4988 - val_loss: 0.7216 - val_accuracy: 0.7368\n",
      "\n",
      "Epoch 00002: saving model to modelalista\n",
      "INFO:tensorflow:Assets written to: modelalista\\assets\n",
      "Epoch 3/500\n",
      "122/122 [==============================] - 1s 4ms/step - loss: 1.0519 - accuracy: 0.6028 - val_loss: 0.5472 - val_accuracy: 0.7467\n",
      "\n",
      "Epoch 00003: saving model to modelalista\n",
      "INFO:tensorflow:Assets written to: modelalista\\assets\n",
      "Epoch 4/500\n",
      "122/122 [==============================] - 1s 4ms/step - loss: 0.7734 - accuracy: 0.7026 - val_loss: 0.3876 - val_accuracy: 0.8586\n",
      "\n",
      "Epoch 00004: saving model to modelalista\n",
      "INFO:tensorflow:Assets written to: modelalista\\assets\n",
      "Epoch 5/500\n",
      "122/122 [==============================] - 1s 4ms/step - loss: 0.6081 - accuracy: 0.7383 - val_loss: 0.2674 - val_accuracy: 0.9408\n",
      "\n",
      "Epoch 00005: saving model to modelalista\n",
      "INFO:tensorflow:Assets written to: modelalista\\assets\n",
      "Epoch 6/500\n",
      "122/122 [==============================] - 1s 4ms/step - loss: 0.4073 - accuracy: 0.8609 - val_loss: 0.1450 - val_accuracy: 0.9507\n",
      "\n",
      "Epoch 00006: saving model to modelalista\n",
      "INFO:tensorflow:Assets written to: modelalista\\assets\n",
      "Epoch 7/500\n",
      "122/122 [==============================] - 1s 4ms/step - loss: 0.3000 - accuracy: 0.8868 - val_loss: 0.1575 - val_accuracy: 0.9375\n",
      "\n",
      "Epoch 00007: saving model to modelalista\n",
      "INFO:tensorflow:Assets written to: modelalista\\assets\n",
      "Epoch 8/500\n",
      "122/122 [==============================] - 1s 4ms/step - loss: 0.2053 - accuracy: 0.9263 - val_loss: 0.1491 - val_accuracy: 0.9507\n",
      "\n",
      "Epoch 00008: saving model to modelalista\n",
      "INFO:tensorflow:Assets written to: modelalista\\assets\n",
      "Epoch 9/500\n",
      "122/122 [==============================] - 1s 4ms/step - loss: 0.2043 - accuracy: 0.9322 - val_loss: 0.1023 - val_accuracy: 0.9605\n",
      "\n",
      "Epoch 00009: saving model to modelalista\n",
      "INFO:tensorflow:Assets written to: modelalista\\assets\n",
      "Epoch 10/500\n",
      "122/122 [==============================] - 1s 4ms/step - loss: 0.1698 - accuracy: 0.9366 - val_loss: 0.0559 - val_accuracy: 0.9836\n",
      "\n",
      "Epoch 00010: saving model to modelalista\n",
      "INFO:tensorflow:Assets written to: modelalista\\assets\n",
      "Epoch 11/500\n",
      "122/122 [==============================] - 1s 4ms/step - loss: 0.1590 - accuracy: 0.9510 - val_loss: 0.1437 - val_accuracy: 0.9375\n",
      "\n",
      "Epoch 00011: saving model to modelalista\n",
      "INFO:tensorflow:Assets written to: modelalista\\assets\n",
      "Epoch 12/500\n",
      "122/122 [==============================] - 1s 5ms/step - loss: 0.1261 - accuracy: 0.9526 - val_loss: 0.0423 - val_accuracy: 0.9836\n",
      "\n",
      "Epoch 00012: saving model to modelalista\n",
      "INFO:tensorflow:Assets written to: modelalista\\assets\n",
      "Epoch 13/500\n",
      "122/122 [==============================] - 1s 4ms/step - loss: 0.1107 - accuracy: 0.9686 - val_loss: 0.1122 - val_accuracy: 0.9638\n",
      "\n",
      "Epoch 00013: saving model to modelalista\n",
      "INFO:tensorflow:Assets written to: modelalista\\assets\n",
      "Epoch 14/500\n",
      "122/122 [==============================] - 1s 4ms/step - loss: 0.1015 - accuracy: 0.9649 - val_loss: 0.0273 - val_accuracy: 0.9901\n",
      "\n",
      "Epoch 00014: saving model to modelalista\n",
      "INFO:tensorflow:Assets written to: modelalista\\assets\n",
      "Epoch 15/500\n",
      "122/122 [==============================] - 1s 4ms/step - loss: 0.1184 - accuracy: 0.9539 - val_loss: 0.0358 - val_accuracy: 0.9934\n",
      "\n",
      "Epoch 00015: saving model to modelalista\n",
      "INFO:tensorflow:Assets written to: modelalista\\assets\n",
      "Epoch 16/500\n",
      "122/122 [==============================] - 1s 5ms/step - loss: 0.0826 - accuracy: 0.9751 - val_loss: 0.0334 - val_accuracy: 0.9934\n",
      "\n",
      "Epoch 00016: saving model to modelalista\n",
      "INFO:tensorflow:Assets written to: modelalista\\assets\n",
      "Epoch 17/500\n",
      "122/122 [==============================] - 1s 4ms/step - loss: 0.0490 - accuracy: 0.9861 - val_loss: 0.0582 - val_accuracy: 0.9901\n",
      "\n",
      "Epoch 00017: saving model to modelalista\n",
      "INFO:tensorflow:Assets written to: modelalista\\assets\n",
      "Epoch 18/500\n",
      "122/122 [==============================] - 1s 4ms/step - loss: 0.0495 - accuracy: 0.9850 - val_loss: 0.0328 - val_accuracy: 0.9901\n",
      "\n",
      "Epoch 00018: saving model to modelalista\n",
      "INFO:tensorflow:Assets written to: modelalista\\assets\n",
      "Epoch 19/500\n",
      "122/122 [==============================] - 1s 4ms/step - loss: 0.0867 - accuracy: 0.9652 - val_loss: 0.0578 - val_accuracy: 0.9934\n",
      "\n",
      "Epoch 00019: saving model to modelalista\n",
      "INFO:tensorflow:Assets written to: modelalista\\assets\n",
      "Epoch 00019: early stopping\n"
     ]
    },
    {
     "data": {
      "image/png": "[encoded data removed]",
      "text/plain": [
       "<Figure size 432x288 with 1 Axes>"
      ]
     },
     "metadata": {
      "needs_background": "light"
     },
     "output_type": "display_data"
    },
    {
     "data": {
      "image/png": "[encoded data removed]",
      "text/plain": [
       "<Figure size 432x288 with 1 Axes>"
      ]
     },
     "metadata": {
      "needs_background": "light"
     },
     "output_type": "display_data"
    },
    {
     "name": "stdout",
     "output_type": "stream",
     "text": [
      "WARNING:tensorflow:Model was constructed with shape (None, 1520, 1921) for input KerasTensor(type_spec=TensorSpec(shape=(None, 1520, 1921), dtype=tf.float32, name='dense_72_input'), name='dense_72_input', description=\"created by layer 'dense_72_input'\"), but it was called on an input with incompatible shape (None, 1921).\n"
     ]
    },
    {
     "name": "stderr",
     "output_type": "stream",
     "text": [
      "C:\\Users\\mrmot\\anaconda3\\lib\\site-packages\\keras\\engine\\sequential.py:450: UserWarning:\n",
      "\n",
      "`model.predict_classes()` is deprecated and will be removed after 2021-01-01. Please use instead:* `np.argmax(model.predict(x), axis=-1)`,   if your model does multi-class classification   (e.g. if it uses a `softmax` last-layer activation).* `(model.predict(x) > 0.5).astype(\"int32\")`,   if your model does binary classification   (e.g. if it uses a `sigmoid` last-layer activation).\n",
      "\n"
     ]
    },
    {
     "name": "stdout",
     "output_type": "stream",
     "text": [
      "Accuracy =  0.989501312335958\n",
      "f1 micro =  0.989501312335958\n",
      "f1 macro =  0.9900488150090104\n",
      "f1 all =  [1.         0.99259259 0.99065421 0.98461538 0.98013245 0.99009901\n",
      " 0.99224806]\n",
      "prec micro =  0.989501312335958\n",
      "prec macro =  0.9917886346457775\n",
      "prec all =  [1.         1.         0.98148148 1.         0.96103896 1.\n",
      " 1.        ]\n",
      "recall micro =  0.989501312335958\n",
      "recall macro =  0.9885712326888798\n",
      "recall all =  [1.         0.98529412 1.         0.96969697 1.         0.98039216\n",
      " 0.98461538]\n",
      "AxesSubplot(0.125,0.125;0.62x0.755)\n"
     ]
    },
    {
     "data": {
      "image/png": "[encoded data removed]",
      "text/plain": [
       "<Figure size 432x288 with 2 Axes>"
      ]
     },
     "metadata": {
      "needs_background": "light"
     },
     "output_type": "display_data"
    }
   ],
   "source": [
    "X_5 = d_5.drop(columns = ['label']).values\n",
    "y_5 = d_5['label'].values\n",
    "Scores=My_model(X_5,y_5)\n",
    "\n"
   ]
  },
  {
   "cell_type": "code",
   "execution_count": null,
   "id": "1c7c9d31",
   "metadata": {},
   "outputs": [],
   "source": []
  },
  {
   "cell_type": "code",
   "execution_count": null,
   "id": "fed833f7",
   "metadata": {},
   "outputs": [],
   "source": []
  },
  {
   "cell_type": "code",
   "execution_count": null,
   "id": "c7a982b1",
   "metadata": {},
   "outputs": [],
   "source": []
  },
  {
   "cell_type": "code",
   "execution_count": null,
   "id": "721d12e6",
   "metadata": {
    "scrolled": false
   },
   "outputs": [],
   "source": []
  },
  {
   "cell_type": "code",
   "execution_count": null,
   "id": "667269a8",
   "metadata": {},
   "outputs": [],
   "source": []
  },
  {
   "cell_type": "code",
   "execution_count": null,
   "id": "9787731e",
   "metadata": {},
   "outputs": [],
   "source": []
  },
  {
   "cell_type": "code",
   "execution_count": null,
   "id": "b1d4749d",
   "metadata": {},
   "outputs": [],
   "source": []
  },
  {
   "cell_type": "code",
   "execution_count": null,
   "id": "7b293934",
   "metadata": {},
   "outputs": [],
   "source": []
  },
  {
   "cell_type": "code",
   "execution_count": null,
   "id": "2eea4e4d",
   "metadata": {},
   "outputs": [],
   "source": []
  }
 ],
 "metadata": {
  "kernelspec": {
   "display_name": "Python 3",
   "language": "python",
   "name": "python3"
  },
  "language_info": {
   "codemirror_mode": {
    "name": "ipython",
    "version": 3
   },
   "file_extension": ".py",
   "mimetype": "text/x-python",
   "name": "python",
   "nbconvert_exporter": "python",
   "pygments_lexer": "ipython3",
   "version": "3.8.8"
  }
 },
 "nbformat": 4,
 "nbformat_minor": 5
}
