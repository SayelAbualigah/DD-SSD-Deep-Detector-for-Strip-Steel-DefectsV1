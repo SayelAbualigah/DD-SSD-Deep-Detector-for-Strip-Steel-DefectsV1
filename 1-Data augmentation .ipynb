{
 "cells": [
  {
   "cell_type": "code",
   "execution_count": 37,
   "id": "9f058a07",
   "metadata": {},
   "outputs": [],
   "source": [
    "import numpy as np \n",
    "import glob\n",
    "import cv2\n",
    "import pandas as pd\n",
    "import numpy as np\n",
    "from skimage import io\n",
    "import os\n",
    "from PIL import Image\n",
    "from keras.models import Model, Sequential\n",
    "from keras.layers import Dense, Flatten, Conv2D, MaxPooling2D\n",
    "from keras.layers import BatchNormalization\n",
    "import os\n",
    "import tensorflow as tf\n"
   ]
  },
  {
   "cell_type": "markdown",
   "id": "3877d8ff",
   "metadata": {},
   "source": [
    "# we will perform data augmentation for low number Image Data generation   "
   ]
  },
  {
   "cell_type": "code",
   "execution_count": 38,
   "id": "8edb40d6",
   "metadata": {},
   "outputs": [],
   "source": [
    "\n",
    "\n",
    "from keras.preprocessing.image import ImageDataGenerator\n",
    "datagen = ImageDataGenerator(\n",
    "        rotation_range=40,\n",
    "        shear_range=0.2,\n",
    "        zoom_range=0.2,\n",
    "        horizontal_flip=True\n",
    "#        width_shift_range=0.2,\n",
    "#        height_shift_range=0.2,\n",
    "#       rescale=1./255,\n",
    "        )"
   ]
  },
  {
   "cell_type": "markdown",
   "id": "a99e3ffb",
   "metadata": {},
   "source": [
    "# iron sheet ash"
   ]
  },
  {
   "cell_type": "code",
   "execution_count": 39,
   "id": "600f7552",
   "metadata": {},
   "outputs": [],
   "source": [
    "#read Data from problem one label\n",
    "image_directory = 'X-DDD - Copy/iron sheet ash/'\n",
    "SIZE = 128\n",
    "dataset = []\n",
    "\n",
    "my_images = os.listdir(image_directory)\n",
    "for i, image_name in enumerate(my_images):\n",
    "    if (image_name.split('.')[1] == 'jpg'):\n",
    "        image = io.imread(image_directory + image_name)\n",
    "        image = Image.fromarray(image, 'RGB')\n",
    "        image = image.resize((SIZE,SIZE))\n",
    "        dataset.append(np.array(image))\n",
    "\n",
    "x = np.array(dataset)"
   ]
  },
  {
   "cell_type": "code",
   "execution_count": 40,
   "id": "24b56766",
   "metadata": {},
   "outputs": [],
   "source": [
    "# Generating and saving 10 augmented samples  \n",
    "# using the above defined parameters.  \n",
    "#Again, flow generates batches of randomly augmented images\n",
    " \n",
    "i = 0\n",
    "for batch in datagen.flow(x, batch_size=16,  \n",
    "                          save_to_dir='X-DDD - Copy/iron sheet ash/', \n",
    "                          save_prefix='aug', \n",
    "                          save_format='png'):\n",
    "    i += 1\n",
    "    if i > 10:\n",
    "        break  # otherwise the generator would loop indefinitely  "
   ]
  },
  {
   "cell_type": "markdown",
   "id": "de8feddb",
   "metadata": {},
   "source": [
    "# oxide scale of plate system"
   ]
  },
  {
   "cell_type": "code",
   "execution_count": 47,
   "id": "5ff84253",
   "metadata": {},
   "outputs": [],
   "source": [
    "#read Data from problem one label\n",
    "image_directory = 'X-DDD - Copy/oxide scale of plate system/'\n",
    "SIZE = 128\n",
    "dataset = []\n",
    "\n",
    "my_images = os.listdir(image_directory)\n",
    "for i, image_name in enumerate(my_images):\n",
    "    if (image_name.split('.')[1] == 'jpg'):\n",
    "        image = io.imread(image_directory + image_name)\n",
    "        image = Image.fromarray(image, 'RGB')\n",
    "        image = image.resize((SIZE,SIZE))\n",
    "        dataset.append(np.array(image))\n",
    "\n",
    "x = np.array(dataset)"
   ]
  },
  {
   "cell_type": "code",
   "execution_count": 48,
   "id": "d6eede6c",
   "metadata": {},
   "outputs": [],
   "source": [
    "# Generating and saving 10 augmented samples  \n",
    "# using the above defined parameters.  \n",
    "#Again, flow generates batches of randomly augmented images\n",
    " \n",
    "i = 0\n",
    "for batch in datagen.flow(x, batch_size=16,  \n",
    "                          save_to_dir='X-DDD - Copy/oxide scale of plate system/', \n",
    "                          save_prefix='aug', \n",
    "                          save_format='png'):\n",
    "    i += 1\n",
    "    if i > 12:\n",
    "        break  # otherwise the generator would loop indefinitely  "
   ]
  },
  {
   "cell_type": "markdown",
   "id": "079d147b",
   "metadata": {},
   "source": [
    "# surface scratch"
   ]
  },
  {
   "cell_type": "code",
   "execution_count": 50,
   "id": "13ae178b",
   "metadata": {},
   "outputs": [],
   "source": [
    "#read Data from problem one label\n",
    "image_directory = 'X-DDD - Copy/surface scratch/'\n",
    "SIZE = 128\n",
    "dataset = []\n",
    "\n",
    "my_images = os.listdir(image_directory)\n",
    "for i, image_name in enumerate(my_images):\n",
    "    if (image_name.split('.')[1] == 'jpg'):\n",
    "        image = io.imread(image_directory + image_name)\n",
    "        image = Image.fromarray(image, 'RGB')\n",
    "        image = image.resize((SIZE,SIZE))\n",
    "        dataset.append(np.array(image))\n",
    "\n",
    "x = np.array(dataset)"
   ]
  },
  {
   "cell_type": "code",
   "execution_count": 51,
   "id": "7482b609",
   "metadata": {},
   "outputs": [],
   "source": [
    "# Generating and saving 10 augmented samples  \n",
    "# using the above defined parameters.  \n",
    "#Again, flow generates batches of randomly augmented images\n",
    " \n",
    "i = 0\n",
    "for batch in datagen.flow(x, batch_size=16,  \n",
    "                          save_to_dir='X-DDD - Copy/surface scratch/', \n",
    "                          save_prefix='aug', \n",
    "                          save_format='png'):\n",
    "    i += 1\n",
    "    if i > 10:\n",
    "        break  # otherwise the generator would loop indefinitely  "
   ]
  },
  {
   "cell_type": "code",
   "execution_count": null,
   "id": "3dd21dca",
   "metadata": {},
   "outputs": [],
   "source": []
  },
  {
   "cell_type": "code",
   "execution_count": null,
   "id": "0e024e08",
   "metadata": {},
   "outputs": [],
   "source": []
  }
 ],
 "metadata": {
  "kernelspec": {
   "display_name": "Python 3",
   "language": "python",
   "name": "python3"
  },
  "language_info": {
   "codemirror_mode": {
    "name": "ipython",
    "version": 3
   },
   "file_extension": ".py",
   "mimetype": "text/x-python",
   "name": "python",
   "nbconvert_exporter": "python",
   "pygments_lexer": "ipython3",
   "version": "3.8.8"
  }
 },
 "nbformat": 4,
 "nbformat_minor": 5
}
