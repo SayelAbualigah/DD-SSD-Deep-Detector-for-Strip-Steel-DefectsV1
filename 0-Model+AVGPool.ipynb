{
 "cells": [
  {
   "cell_type": "code",
   "execution_count": 1,
   "id": "06e6c4e9",
   "metadata": {},
   "outputs": [],
   "source": [
    "import pandas as pd\n",
    "#import xgboost as xgb\n",
    "import numpy as np\n",
    "from sklearn.model_selection import train_test_split\n",
    "from sklearn import metrics\n",
    "from sklearn.metrics import confusion_matrix\n",
    "from sklearn.model_selection import KFold\n",
    "from sklearn import svm\n",
    "import tensorflow as tf\n",
    "from tensorflow.keras.models import Sequential  \n",
    "from tensorflow.keras.layers import *\n",
    "from tensorflow import keras\n",
    "\n",
    "from tensorflow.keras.callbacks import EarlyStopping\n",
    "from tensorflow.keras.callbacks import ModelCheckpoint\n",
    "from tensorflow.keras import regularizers\n",
    "from tensorflow.keras.models import Model, Sequential\n",
    "from tensorflow.keras.layers import Dense, Flatten, Conv2D, MaxPooling2D\n",
    "from sklearn.preprocessing import StandardScaler,LabelBinarizer\n",
    "import matplotlib.pyplot as plt\n",
    "import seaborn as sns\n",
    "import plotly.express as px\n",
    "from sklearn import metrics\n",
    "from sklearn import preprocessing\n",
    "\n",
    "\n",
    "import pandas as pd\n",
    "import numpy as np\n",
    "from sklearn.preprocessing import LabelEncoder\n",
    "from keras.wrappers.scikit_learn import KerasClassifier\n",
    "from keras.utils import np_utils\n",
    "from keras.models import Sequential\n",
    "from keras.layers import Dense, Dropout\n",
    "from keras.callbacks import EarlyStopping\n",
    "kf = KFold(n_splits=10)"
   ]
  },
  {
   "cell_type": "code",
   "execution_count": 2,
   "id": "c5b4da16",
   "metadata": {},
   "outputs": [],
   "source": [
    "d_1 = pd.read_csv(\"features_extraction_Xception.csv\")\n",
    "d_2 = pd.read_csv(\"features_extraction_VGG16.csv\")\n",
    "d_3 = pd.read_csv(\"features_extraction_ResNet50.csv\")\n",
    "d_4 = pd.read_csv(\"features_extraction_InceptionV3.csv\")\n",
    "d_5 = pd.read_csv(\"features_extraction_DenseNet201.csv\")"
   ]
  },
  {
   "cell_type": "code",
   "execution_count": 3,
   "id": "b6cfe00b",
   "metadata": {},
   "outputs": [
    {
     "data": {
      "application/vnd.plotly.v1+json": {
       "config": {
        "plotlyServerURL": "https://plot.ly"
       },
       "data": [
        {
         "domain": {
          "x": [
           0,
           1
          ],
          "y": [
           0,
           1
          ]
         },
         "hovertemplate": "label=%{label}<br>value=%{value}<extra></extra>",
         "labels": [
          "red iron",
          "slag inclusion",
          "finishing roll printing",
          "oxide scale of temperature system",
          "surface scratch",
          "iron sheet ash",
          "oxide scale of plate system"
         ],
         "legendgroup": "",
         "name": "",
         "showlegend": true,
         "type": "pie",
         "values": [
          397,
          238,
          203,
          203,
          134,
          122,
          63
         ]
        }
       ],
       "layout": {
        "legend": {
         "tracegroupgap": 0
        },
        "margin": {
         "t": 60
        },
        "template": {
         "data": {
          "bar": [
           {
            "error_x": {
             "color": "#2a3f5f"
            },
            "error_y": {
             "color": "#2a3f5f"
            },
            "marker": {
             "line": {
              "color": "#E5ECF6",
              "width": 0.5
             },
             "pattern": {
              "fillmode": "overlay",
              "size": 10,
              "solidity": 0.2
             }
            },
            "type": "bar"
           }
          ],
          "barpolar": [
           {
            "marker": {
             "line": {
              "color": "#E5ECF6",
              "width": 0.5
             },
             "pattern": {
              "fillmode": "overlay",
              "size": 10,
              "solidity": 0.2
             }
            },
            "type": "barpolar"
           }
          ],
          "carpet": [
           {
            "aaxis": {
             "endlinecolor": "#2a3f5f",
             "gridcolor": "white",
             "linecolor": "white",
             "minorgridcolor": "white",
             "startlinecolor": "#2a3f5f"
            },
            "baxis": {
             "endlinecolor": "#2a3f5f",
             "gridcolor": "white",
             "linecolor": "white",
             "minorgridcolor": "white",
             "startlinecolor": "#2a3f5f"
            },
            "type": "carpet"
           }
          ],
          "choropleth": [
           {
            "colorbar": {
             "outlinewidth": 0,
             "ticks": ""
            },
            "type": "choropleth"
           }
          ],
          "contour": [
           {
            "colorbar": {
             "outlinewidth": 0,
             "ticks": ""
            },
            "colorscale": [
             [
              0,
              "#0d0887"
             ],
             [
              0.1111111111111111,
              "#46039f"
             ],
             [
              0.2222222222222222,
              "#7201a8"
             ],
             [
              0.3333333333333333,
              "#9c179e"
             ],
             [
              0.4444444444444444,
              "#bd3786"
             ],
             [
              0.5555555555555556,
              "#d8576b"
             ],
             [
              0.6666666666666666,
              "#ed7953"
             ],
             [
              0.7777777777777778,
              "#fb9f3a"
             ],
             [
              0.8888888888888888,
              "#fdca26"
             ],
             [
              1,
              "#f0f921"
             ]
            ],
            "type": "contour"
           }
          ],
          "contourcarpet": [
           {
            "colorbar": {
             "outlinewidth": 0,
             "ticks": ""
            },
            "type": "contourcarpet"
           }
          ],
          "heatmap": [
           {
            "colorbar": {
             "outlinewidth": 0,
             "ticks": ""
            },
            "colorscale": [
             [
              0,
              "#0d0887"
             ],
             [
              0.1111111111111111,
              "#46039f"
             ],
             [
              0.2222222222222222,
              "#7201a8"
             ],
             [
              0.3333333333333333,
              "#9c179e"
             ],
             [
              0.4444444444444444,
              "#bd3786"
             ],
             [
              0.5555555555555556,
              "#d8576b"
             ],
             [
              0.6666666666666666,
              "#ed7953"
             ],
             [
              0.7777777777777778,
              "#fb9f3a"
             ],
             [
              0.8888888888888888,
              "#fdca26"
             ],
             [
              1,
              "#f0f921"
             ]
            ],
            "type": "heatmap"
           }
          ],
          "heatmapgl": [
           {
            "colorbar": {
             "outlinewidth": 0,
             "ticks": ""
            },
            "colorscale": [
             [
              0,
              "#0d0887"
             ],
             [
              0.1111111111111111,
              "#46039f"
             ],
             [
              0.2222222222222222,
              "#7201a8"
             ],
             [
              0.3333333333333333,
              "#9c179e"
             ],
             [
              0.4444444444444444,
              "#bd3786"
             ],
             [
              0.5555555555555556,
              "#d8576b"
             ],
             [
              0.6666666666666666,
              "#ed7953"
             ],
             [
              0.7777777777777778,
              "#fb9f3a"
             ],
             [
              0.8888888888888888,
              "#fdca26"
             ],
             [
              1,
              "#f0f921"
             ]
            ],
            "type": "heatmapgl"
           }
          ],
          "histogram": [
           {
            "marker": {
             "pattern": {
              "fillmode": "overlay",
              "size": 10,
              "solidity": 0.2
             }
            },
            "type": "histogram"
           }
          ],
          "histogram2d": [
           {
            "colorbar": {
             "outlinewidth": 0,
             "ticks": ""
            },
            "colorscale": [
             [
              0,
              "#0d0887"
             ],
             [
              0.1111111111111111,
              "#46039f"
             ],
             [
              0.2222222222222222,
              "#7201a8"
             ],
             [
              0.3333333333333333,
              "#9c179e"
             ],
             [
              0.4444444444444444,
              "#bd3786"
             ],
             [
              0.5555555555555556,
              "#d8576b"
             ],
             [
              0.6666666666666666,
              "#ed7953"
             ],
             [
              0.7777777777777778,
              "#fb9f3a"
             ],
             [
              0.8888888888888888,
              "#fdca26"
             ],
             [
              1,
              "#f0f921"
             ]
            ],
            "type": "histogram2d"
           }
          ],
          "histogram2dcontour": [
           {
            "colorbar": {
             "outlinewidth": 0,
             "ticks": ""
            },
            "colorscale": [
             [
              0,
              "#0d0887"
             ],
             [
              0.1111111111111111,
              "#46039f"
             ],
             [
              0.2222222222222222,
              "#7201a8"
             ],
             [
              0.3333333333333333,
              "#9c179e"
             ],
             [
              0.4444444444444444,
              "#bd3786"
             ],
             [
              0.5555555555555556,
              "#d8576b"
             ],
             [
              0.6666666666666666,
              "#ed7953"
             ],
             [
              0.7777777777777778,
              "#fb9f3a"
             ],
             [
              0.8888888888888888,
              "#fdca26"
             ],
             [
              1,
              "#f0f921"
             ]
            ],
            "type": "histogram2dcontour"
           }
          ],
          "mesh3d": [
           {
            "colorbar": {
             "outlinewidth": 0,
             "ticks": ""
            },
            "type": "mesh3d"
           }
          ],
          "parcoords": [
           {
            "line": {
             "colorbar": {
              "outlinewidth": 0,
              "ticks": ""
             }
            },
            "type": "parcoords"
           }
          ],
          "pie": [
           {
            "automargin": true,
            "type": "pie"
           }
          ],
          "scatter": [
           {
            "fillpattern": {
             "fillmode": "overlay",
             "size": 10,
             "solidity": 0.2
            },
            "type": "scatter"
           }
          ],
          "scatter3d": [
           {
            "line": {
             "colorbar": {
              "outlinewidth": 0,
              "ticks": ""
             }
            },
            "marker": {
             "colorbar": {
              "outlinewidth": 0,
              "ticks": ""
             }
            },
            "type": "scatter3d"
           }
          ],
          "scattercarpet": [
           {
            "marker": {
             "colorbar": {
              "outlinewidth": 0,
              "ticks": ""
             }
            },
            "type": "scattercarpet"
           }
          ],
          "scattergeo": [
           {
            "marker": {
             "colorbar": {
              "outlinewidth": 0,
              "ticks": ""
             }
            },
            "type": "scattergeo"
           }
          ],
          "scattergl": [
           {
            "marker": {
             "colorbar": {
              "outlinewidth": 0,
              "ticks": ""
             }
            },
            "type": "scattergl"
           }
          ],
          "scattermapbox": [
           {
            "marker": {
             "colorbar": {
              "outlinewidth": 0,
              "ticks": ""
             }
            },
            "type": "scattermapbox"
           }
          ],
          "scatterpolar": [
           {
            "marker": {
             "colorbar": {
              "outlinewidth": 0,
              "ticks": ""
             }
            },
            "type": "scatterpolar"
           }
          ],
          "scatterpolargl": [
           {
            "marker": {
             "colorbar": {
              "outlinewidth": 0,
              "ticks": ""
             }
            },
            "type": "scatterpolargl"
           }
          ],
          "scatterternary": [
           {
            "marker": {
             "colorbar": {
              "outlinewidth": 0,
              "ticks": ""
             }
            },
            "type": "scatterternary"
           }
          ],
          "surface": [
           {
            "colorbar": {
             "outlinewidth": 0,
             "ticks": ""
            },
            "colorscale": [
             [
              0,
              "#0d0887"
             ],
             [
              0.1111111111111111,
              "#46039f"
             ],
             [
              0.2222222222222222,
              "#7201a8"
             ],
             [
              0.3333333333333333,
              "#9c179e"
             ],
             [
              0.4444444444444444,
              "#bd3786"
             ],
             [
              0.5555555555555556,
              "#d8576b"
             ],
             [
              0.6666666666666666,
              "#ed7953"
             ],
             [
              0.7777777777777778,
              "#fb9f3a"
             ],
             [
              0.8888888888888888,
              "#fdca26"
             ],
             [
              1,
              "#f0f921"
             ]
            ],
            "type": "surface"
           }
          ],
          "table": [
           {
            "cells": {
             "fill": {
              "color": "#EBF0F8"
             },
             "line": {
              "color": "white"
             }
            },
            "header": {
             "fill": {
              "color": "#C8D4E3"
             },
             "line": {
              "color": "white"
             }
            },
            "type": "table"
           }
          ]
         },
         "layout": {
          "annotationdefaults": {
           "arrowcolor": "#2a3f5f",
           "arrowhead": 0,
           "arrowwidth": 1
          },
          "autotypenumbers": "strict",
          "coloraxis": {
           "colorbar": {
            "outlinewidth": 0,
            "ticks": ""
           }
          },
          "colorscale": {
           "diverging": [
            [
             0,
             "#8e0152"
            ],
            [
             0.1,
             "#c51b7d"
            ],
            [
             0.2,
             "#de77ae"
            ],
            [
             0.3,
             "#f1b6da"
            ],
            [
             0.4,
             "#fde0ef"
            ],
            [
             0.5,
             "#f7f7f7"
            ],
            [
             0.6,
             "#e6f5d0"
            ],
            [
             0.7,
             "#b8e186"
            ],
            [
             0.8,
             "#7fbc41"
            ],
            [
             0.9,
             "#4d9221"
            ],
            [
             1,
             "#276419"
            ]
           ],
           "sequential": [
            [
             0,
             "#0d0887"
            ],
            [
             0.1111111111111111,
             "#46039f"
            ],
            [
             0.2222222222222222,
             "#7201a8"
            ],
            [
             0.3333333333333333,
             "#9c179e"
            ],
            [
             0.4444444444444444,
             "#bd3786"
            ],
            [
             0.5555555555555556,
             "#d8576b"
            ],
            [
             0.6666666666666666,
             "#ed7953"
            ],
            [
             0.7777777777777778,
             "#fb9f3a"
            ],
            [
             0.8888888888888888,
             "#fdca26"
            ],
            [
             1,
             "#f0f921"
            ]
           ],
           "sequentialminus": [
            [
             0,
             "#0d0887"
            ],
            [
             0.1111111111111111,
             "#46039f"
            ],
            [
             0.2222222222222222,
             "#7201a8"
            ],
            [
             0.3333333333333333,
             "#9c179e"
            ],
            [
             0.4444444444444444,
             "#bd3786"
            ],
            [
             0.5555555555555556,
             "#d8576b"
            ],
            [
             0.6666666666666666,
             "#ed7953"
            ],
            [
             0.7777777777777778,
             "#fb9f3a"
            ],
            [
             0.8888888888888888,
             "#fdca26"
            ],
            [
             1,
             "#f0f921"
            ]
           ]
          },
          "colorway": [
           "#636efa",
           "#EF553B",
           "#00cc96",
           "#ab63fa",
           "#FFA15A",
           "#19d3f3",
           "#FF6692",
           "#B6E880",
           "#FF97FF",
           "#FECB52"
          ],
          "font": {
           "color": "#2a3f5f"
          },
          "geo": {
           "bgcolor": "white",
           "lakecolor": "white",
           "landcolor": "#E5ECF6",
           "showlakes": true,
           "showland": true,
           "subunitcolor": "white"
          },
          "hoverlabel": {
           "align": "left"
          },
          "hovermode": "closest",
          "mapbox": {
           "style": "light"
          },
          "paper_bgcolor": "white",
          "plot_bgcolor": "#E5ECF6",
          "polar": {
           "angularaxis": {
            "gridcolor": "white",
            "linecolor": "white",
            "ticks": ""
           },
           "bgcolor": "#E5ECF6",
           "radialaxis": {
            "gridcolor": "white",
            "linecolor": "white",
            "ticks": ""
           }
          },
          "scene": {
           "xaxis": {
            "backgroundcolor": "#E5ECF6",
            "gridcolor": "white",
            "gridwidth": 2,
            "linecolor": "white",
            "showbackground": true,
            "ticks": "",
            "zerolinecolor": "white"
           },
           "yaxis": {
            "backgroundcolor": "#E5ECF6",
            "gridcolor": "white",
            "gridwidth": 2,
            "linecolor": "white",
            "showbackground": true,
            "ticks": "",
            "zerolinecolor": "white"
           },
           "zaxis": {
            "backgroundcolor": "#E5ECF6",
            "gridcolor": "white",
            "gridwidth": 2,
            "linecolor": "white",
            "showbackground": true,
            "ticks": "",
            "zerolinecolor": "white"
           }
          },
          "shapedefaults": {
           "line": {
            "color": "#2a3f5f"
           }
          },
          "ternary": {
           "aaxis": {
            "gridcolor": "white",
            "linecolor": "white",
            "ticks": ""
           },
           "baxis": {
            "gridcolor": "white",
            "linecolor": "white",
            "ticks": ""
           },
           "bgcolor": "#E5ECF6",
           "caxis": {
            "gridcolor": "white",
            "linecolor": "white",
            "ticks": ""
           }
          },
          "title": {
           "x": 0.05
          },
          "xaxis": {
           "automargin": true,
           "gridcolor": "white",
           "linecolor": "white",
           "ticks": "",
           "title": {
            "standoff": 15
           },
           "zerolinecolor": "white",
           "zerolinewidth": 2
          },
          "yaxis": {
           "automargin": true,
           "gridcolor": "white",
           "linecolor": "white",
           "ticks": "",
           "title": {
            "standoff": 15
           },
           "zerolinecolor": "white",
           "zerolinewidth": 2
          }
         }
        }
       }
      }
     },
     "metadata": {},
     "output_type": "display_data"
    }
   ],
   "source": [
    "labels=d_1['label'].value_counts()\n",
    "\n",
    "fig = px.pie(d_1, values=labels, names=labels.index)\n",
    "fig.show()"
   ]
  },
  {
   "cell_type": "code",
   "execution_count": 24,
   "id": "e6f80f10",
   "metadata": {},
   "outputs": [],
   "source": [
    "def My_model(X,y):\n",
    "    X_train, X_test, y_train, y_test = train_test_split(X, y, test_size=0.25, random_state=42,shuffle=True)\n",
    "    le = preprocessing.LabelEncoder()\n",
    "    le.fit(y_test)\n",
    "    test_labels_encoded = le.transform(y_test)\n",
    "    le.fit(y_train)\n",
    "    train_labels_encoded = le.transform(y_train)\n",
    "    print(X_train.shape[1])\n",
    "    model=Sequential()\n",
    "    model.add(Dense(512,input_shape=(X_train.shape[1],),activation='relu'))\n",
    "    model.add(Dropout(0.20))\n",
    "\n",
    "    model.add(Dense(units=256,activation='relu'))\n",
    "    model.add(Dropout(0.20))\n",
    "\n",
    "    model.add(Dense(units=128,activation='relu'))\n",
    "    model.add(Dropout(0.10))\n",
    "\n",
    "    model.add(Dense(units=7,activation='softmax'))\n",
    "    model.compile(loss='sparse_categorical_crossentropy',optimizer='adam',metrics=['accuracy'])\n",
    "    es = EarlyStopping(monitor='val_loss', mode='min', verbose=1, patience=5)\n",
    "    mc = ModelCheckpoint('sayel', monitor='val_loss', mode='min', verbose=1)\n",
    "    history_1=model.fit(X_train,train_labels_encoded,callbacks = [es,mc],batch_size=10, epochs=500,\n",
    "                        validation_split=0.20)\n",
    "    plt.plot(history_1.history['accuracy'])\n",
    "    plt.plot(history_1.history['val_accuracy'])\n",
    "    plt.title('Model accuracy')\n",
    "    plt.ylabel('Accuracy')\n",
    "    plt.xlabel('Epoch')\n",
    "    plt.legend(['Train', 'Test'], loc='upper left')\n",
    "    plt.show()\n",
    "    plt.plot(history_1.history['loss'])\n",
    "    plt.plot(history_1.history['val_loss'])\n",
    "    plt.title('Model loss')\n",
    "    plt.ylabel('Loss')\n",
    "    plt.xlabel('Epoch')\n",
    "    plt.legend(['Train', 'Test'], loc='upper left')\n",
    "    plt.show()\n",
    "    predict_x=model.predict(X_test) \n",
    "    Y_pred=np.argmax(predict_x,axis=1)\n",
    "    #Y_pred=model.predict_classes(X_test)\n",
    "    Scores=metrics_scores(Y_pred,y_test,le)\n",
    "    return Scores"
   ]
  },
  {
   "cell_type": "code",
   "execution_count": 25,
   "id": "ca341f13",
   "metadata": {},
   "outputs": [],
   "source": [
    "def metrics_scores(y_pred,y_test,le):\n",
    "    prediction1 = le.inverse_transform(y_pred)\n",
    "    print (\"Accuracy = \", metrics.accuracy_score(y_test, prediction1))\n",
    "    print (\"f1 micro = \", metrics.f1_score(y_test, prediction1,average='micro'))\n",
    "    print (\"f1 macro = \", metrics.f1_score(y_test, prediction1,average='macro'))\n",
    "    print (\"f1 all = \", metrics.f1_score(y_test, prediction1,average=None))\n",
    "    print (\"prec micro = \", metrics.precision_score(y_test, prediction1,average='micro'))\n",
    "    print (\"prec macro = \", metrics.precision_score(y_test, prediction1,average='macro'))\n",
    "    print (\"prec all = \", metrics.precision_score(y_test, prediction1,average=None))\n",
    "\n",
    "    print (\"recall micro = \", metrics.recall_score(y_test, prediction1,average='micro'))\n",
    "    print (\"recall macro = \", metrics.recall_score(y_test, prediction1,average='macro'))\n",
    "    print (\"recall all = \", metrics.recall_score(y_test, prediction1,average=None))\n",
    "\n",
    "    cm = confusion_matrix(y_test, prediction1)\n",
    "    #print(cm)\n",
    "    \n",
    "    print(sns.heatmap(cm, annot=True))\n"
   ]
  },
  {
   "cell_type": "code",
   "execution_count": 26,
   "id": "d1df250b",
   "metadata": {
    "scrolled": false
   },
   "outputs": [
    {
     "name": "stdout",
     "output_type": "stream",
     "text": [
      "2049\n",
      "Epoch 1/500\n",
      "79/82 [===========================>..] - ETA: 0s - loss: 5.9602 - accuracy: 0.3278\n",
      "Epoch 1: saving model to sayel\n",
      "INFO:tensorflow:Assets written to: sayel/assets\n",
      "82/82 [==============================] - 5s 41ms/step - loss: 5.8587 - accuracy: 0.3248 - val_loss: 1.1251 - val_accuracy: 0.6078\n",
      "Epoch 2/500\n",
      "81/82 [============================>.] - ETA: 0s - loss: 1.6016 - accuracy: 0.4741\n",
      "Epoch 2: saving model to sayel\n",
      "INFO:tensorflow:Assets written to: sayel/assets\n",
      "82/82 [==============================] - 3s 33ms/step - loss: 1.6005 - accuracy: 0.4743 - val_loss: 0.9772 - val_accuracy: 0.7157\n",
      "Epoch 3/500\n",
      "79/82 [===========================>..] - ETA: 0s - loss: 1.1531 - accuracy: 0.5722\n",
      "Epoch 3: saving model to sayel\n",
      "INFO:tensorflow:Assets written to: sayel/assets\n",
      "82/82 [==============================] - 3s 36ms/step - loss: 1.1456 - accuracy: 0.5735 - val_loss: 0.8724 - val_accuracy: 0.7451\n",
      "Epoch 4/500\n",
      "81/82 [============================>.] - ETA: 0s - loss: 0.9785 - accuracy: 0.6506\n",
      "Epoch 4: saving model to sayel\n",
      "INFO:tensorflow:Assets written to: sayel/assets\n",
      "82/82 [==============================] - 4s 44ms/step - loss: 0.9795 - accuracy: 0.6507 - val_loss: 0.7870 - val_accuracy: 0.7794\n",
      "Epoch 5/500\n",
      "82/82 [==============================] - ETA: 0s - loss: 0.7612 - accuracy: 0.7426\n",
      "Epoch 5: saving model to sayel\n",
      "INFO:tensorflow:Assets written to: sayel/assets\n",
      "82/82 [==============================] - 3s 39ms/step - loss: 0.7612 - accuracy: 0.7426 - val_loss: 0.4917 - val_accuracy: 0.7892\n",
      "Epoch 6/500\n",
      "79/82 [===========================>..] - ETA: 0s - loss: 0.6158 - accuracy: 0.7797\n",
      "Epoch 6: saving model to sayel\n",
      "INFO:tensorflow:Assets written to: sayel/assets\n",
      "82/82 [==============================] - 3s 33ms/step - loss: 0.6092 - accuracy: 0.7831 - val_loss: 0.3760 - val_accuracy: 0.8971\n",
      "Epoch 7/500\n",
      "80/82 [============================>.] - ETA: 0s - loss: 0.4795 - accuracy: 0.8375\n",
      "Epoch 7: saving model to sayel\n",
      "INFO:tensorflow:Assets written to: sayel/assets\n",
      "82/82 [==============================] - 3s 32ms/step - loss: 0.4801 - accuracy: 0.8370 - val_loss: 0.2504 - val_accuracy: 0.9167\n",
      "Epoch 8/500\n",
      "80/82 [============================>.] - ETA: 0s - loss: 0.3251 - accuracy: 0.8888\n",
      "Epoch 8: saving model to sayel\n",
      "INFO:tensorflow:Assets written to: sayel/assets\n",
      "82/82 [==============================] - 2s 30ms/step - loss: 0.3228 - accuracy: 0.8897 - val_loss: 0.2283 - val_accuracy: 0.9167\n",
      "Epoch 9/500\n",
      "82/82 [==============================] - ETA: 0s - loss: 0.2509 - accuracy: 0.9020\n",
      "Epoch 9: saving model to sayel\n",
      "INFO:tensorflow:Assets written to: sayel/assets\n",
      "82/82 [==============================] - 3s 32ms/step - loss: 0.2509 - accuracy: 0.9020 - val_loss: 0.1912 - val_accuracy: 0.9314\n",
      "Epoch 10/500\n",
      "80/82 [============================>.] - ETA: 0s - loss: 0.2070 - accuracy: 0.9275\n",
      "Epoch 10: saving model to sayel\n",
      "INFO:tensorflow:Assets written to: sayel/assets\n",
      "82/82 [==============================] - 3s 31ms/step - loss: 0.2034 - accuracy: 0.9289 - val_loss: 0.1716 - val_accuracy: 0.9265\n",
      "Epoch 11/500\n",
      "81/82 [============================>.] - ETA: 0s - loss: 0.2270 - accuracy: 0.9222\n",
      "Epoch 11: saving model to sayel\n",
      "INFO:tensorflow:Assets written to: sayel/assets\n",
      "82/82 [==============================] - 3s 38ms/step - loss: 0.2254 - accuracy: 0.9228 - val_loss: 0.1482 - val_accuracy: 0.9363\n",
      "Epoch 12/500\n",
      "81/82 [============================>.] - ETA: 0s - loss: 0.1871 - accuracy: 0.9444\n",
      "Epoch 12: saving model to sayel\n",
      "INFO:tensorflow:Assets written to: sayel/assets\n",
      "82/82 [==============================] - 2s 30ms/step - loss: 0.1860 - accuracy: 0.9449 - val_loss: 0.0942 - val_accuracy: 0.9608\n",
      "Epoch 13/500\n",
      "79/82 [===========================>..] - ETA: 0s - loss: 0.1239 - accuracy: 0.9595\n",
      "Epoch 13: saving model to sayel\n",
      "INFO:tensorflow:Assets written to: sayel/assets\n",
      "82/82 [==============================] - 3s 31ms/step - loss: 0.1260 - accuracy: 0.9583 - val_loss: 0.2292 - val_accuracy: 0.9510\n",
      "Epoch 14/500\n",
      "79/82 [===========================>..] - ETA: 0s - loss: 0.1146 - accuracy: 0.9582\n",
      "Epoch 14: saving model to sayel\n",
      "INFO:tensorflow:Assets written to: sayel/assets\n",
      "82/82 [==============================] - 2s 30ms/step - loss: 0.1151 - accuracy: 0.9571 - val_loss: 0.2794 - val_accuracy: 0.9265\n",
      "Epoch 15/500\n",
      "82/82 [==============================] - ETA: 0s - loss: 0.1146 - accuracy: 0.9669\n",
      "Epoch 15: saving model to sayel\n",
      "INFO:tensorflow:Assets written to: sayel/assets\n",
      "82/82 [==============================] - 3s 33ms/step - loss: 0.1146 - accuracy: 0.9669 - val_loss: 0.1502 - val_accuracy: 0.9461\n",
      "Epoch 16/500\n",
      "80/82 [============================>.] - ETA: 0s - loss: 0.1051 - accuracy: 0.9700\n",
      "Epoch 16: saving model to sayel\n",
      "INFO:tensorflow:Assets written to: sayel/assets\n",
      "82/82 [==============================] - 2s 30ms/step - loss: 0.1071 - accuracy: 0.9694 - val_loss: 0.1045 - val_accuracy: 0.9657\n",
      "Epoch 17/500\n",
      "80/82 [============================>.] - ETA: 0s - loss: 0.0724 - accuracy: 0.9750\n",
      "Epoch 17: saving model to sayel\n",
      "INFO:tensorflow:Assets written to: sayel/assets\n",
      "82/82 [==============================] - 3s 32ms/step - loss: 0.0734 - accuracy: 0.9743 - val_loss: 0.1075 - val_accuracy: 0.9657\n",
      "Epoch 17: early stopping\n"
     ]
    },
    {
     "data": {
      "image/png": "[encoded data removed]",
      "text/plain": [
       "<Figure size 432x288 with 1 Axes>"
      ]
     },
     "metadata": {
      "needs_background": "light"
     },
     "output_type": "display_data"
    },
    {
     "data": {
      "image/png": "[encoded data removed]",
      "text/plain": [
       "<Figure size 432x288 with 1 Axes>"
      ]
     },
     "metadata": {
      "needs_background": "light"
     },
     "output_type": "display_data"
    },
    {
     "name": "stdout",
     "output_type": "stream",
     "text": [
      "11/11 [==============================] - 0s 5ms/step\n",
      "Accuracy =  0.9823529411764705\n",
      "f1 micro =  0.9823529411764705\n",
      "f1 macro =  0.982824376425689\n",
      "f1 all =  [1.         0.98550725 0.96969697 0.98113208 0.97979798 0.96363636\n",
      " 1.        ]\n",
      "prec micro =  0.9823529411764705\n",
      "prec macro =  0.9864378478664193\n",
      "prec all =  [1.         0.97142857 1.         1.         0.97       0.96363636\n",
      " 1.        ]\n",
      "recall micro =  0.9823529411764705\n",
      "recall macro =  0.9796531022221299\n",
      "recall all =  [1.         1.         0.94117647 0.96296296 0.98979592 0.96363636\n",
      " 1.        ]\n",
      "AxesSubplot(0.125,0.125;0.62x0.755)\n"
     ]
    },
    {
     "data": {
      "image/png": "[encoded data removed]",
      "text/plain": [
       "<Figure size 432x288 with 2 Axes>"
      ]
     },
     "metadata": {
      "needs_background": "light"
     },
     "output_type": "display_data"
    }
   ],
   "source": [
    "X_1 = d_1.drop(columns = ['label']).values\n",
    "y_1 = d_1['label'].values\n",
    "Scores=My_model(X_1,y_1)\n",
    "\n"
   ]
  },
  {
   "cell_type": "code",
   "execution_count": 27,
   "id": "52acab36",
   "metadata": {
    "scrolled": false
   },
   "outputs": [
    {
     "name": "stdout",
     "output_type": "stream",
     "text": [
      "513\n",
      "Epoch 1/500\n",
      "75/82 [==========================>...] - ETA: 0s - loss: 9.7890 - accuracy: 0.2813 \n",
      "Epoch 1: saving model to sayel\n",
      "INFO:tensorflow:Assets written to: sayel/assets\n",
      "82/82 [==============================] - 4s 33ms/step - loss: 9.2632 - accuracy: 0.2917 - val_loss: 2.2223 - val_accuracy: 0.3873\n",
      "Epoch 2/500\n",
      "82/82 [==============================] - ETA: 0s - loss: 2.3121 - accuracy: 0.4020\n",
      "Epoch 2: saving model to sayel\n",
      "INFO:tensorflow:Assets written to: sayel/assets\n",
      "82/82 [==============================] - 2s 28ms/step - loss: 2.3121 - accuracy: 0.4020 - val_loss: 1.2646 - val_accuracy: 0.4755\n",
      "Epoch 3/500\n",
      "78/82 [===========================>..] - ETA: 0s - loss: 1.7090 - accuracy: 0.4923\n",
      "Epoch 3: saving model to sayel\n",
      "INFO:tensorflow:Assets written to: sayel/assets\n",
      "82/82 [==============================] - 2s 28ms/step - loss: 1.6818 - accuracy: 0.4975 - val_loss: 1.0701 - val_accuracy: 0.6912\n",
      "Epoch 4/500\n",
      "76/82 [==========================>...] - ETA: 0s - loss: 1.3295 - accuracy: 0.5618\n",
      "Epoch 4: saving model to sayel\n",
      "INFO:tensorflow:Assets written to: sayel/assets\n",
      "82/82 [==============================] - 2s 24ms/step - loss: 1.3217 - accuracy: 0.5650 - val_loss: 0.9260 - val_accuracy: 0.6324\n",
      "Epoch 5/500\n",
      "76/82 [==========================>...] - ETA: 0s - loss: 1.1675 - accuracy: 0.5974\n",
      "Epoch 5: saving model to sayel\n",
      "INFO:tensorflow:Assets written to: sayel/assets\n",
      "82/82 [==============================] - 2s 27ms/step - loss: 1.1901 - accuracy: 0.5846 - val_loss: 0.9379 - val_accuracy: 0.6618\n",
      "Epoch 6/500\n",
      "80/82 [============================>.] - ETA: 0s - loss: 0.9495 - accuracy: 0.6488\n",
      "Epoch 6: saving model to sayel\n",
      "INFO:tensorflow:Assets written to: sayel/assets\n",
      "82/82 [==============================] - 2s 29ms/step - loss: 0.9486 - accuracy: 0.6483 - val_loss: 0.6897 - val_accuracy: 0.7696\n",
      "Epoch 7/500\n",
      "76/82 [==========================>...] - ETA: 0s - loss: 0.9146 - accuracy: 0.6434\n",
      "Epoch 7: saving model to sayel\n",
      "INFO:tensorflow:Assets written to: sayel/assets\n",
      "82/82 [==============================] - 3s 33ms/step - loss: 0.9157 - accuracy: 0.6446 - val_loss: 0.6975 - val_accuracy: 0.7990\n",
      "Epoch 8/500\n",
      "78/82 [===========================>..] - ETA: 0s - loss: 0.8401 - accuracy: 0.6705\n",
      "Epoch 8: saving model to sayel\n",
      "INFO:tensorflow:Assets written to: sayel/assets\n",
      "82/82 [==============================] - 2s 26ms/step - loss: 0.8532 - accuracy: 0.6716 - val_loss: 0.8304 - val_accuracy: 0.7941\n",
      "Epoch 9/500\n",
      "80/82 [============================>.] - ETA: 0s - loss: 0.7991 - accuracy: 0.6988\n",
      "Epoch 9: saving model to sayel\n",
      "INFO:tensorflow:Assets written to: sayel/assets\n",
      "82/82 [==============================] - 2s 24ms/step - loss: 0.7918 - accuracy: 0.7022 - val_loss: 0.5383 - val_accuracy: 0.7892\n",
      "Epoch 10/500\n",
      "78/82 [===========================>..] - ETA: 0s - loss: 0.7549 - accuracy: 0.7103\n",
      "Epoch 10: saving model to sayel\n",
      "INFO:tensorflow:Assets written to: sayel/assets\n",
      "82/82 [==============================] - 2s 25ms/step - loss: 0.7507 - accuracy: 0.7120 - val_loss: 0.7291 - val_accuracy: 0.6912\n",
      "Epoch 11/500\n",
      "76/82 [==========================>...] - ETA: 0s - loss: 0.7650 - accuracy: 0.7053\n",
      "Epoch 11: saving model to sayel\n",
      "INFO:tensorflow:Assets written to: sayel/assets\n",
      "82/82 [==============================] - 2s 24ms/step - loss: 0.7499 - accuracy: 0.7132 - val_loss: 0.5449 - val_accuracy: 0.7843\n",
      "Epoch 12/500\n",
      "78/82 [===========================>..] - ETA: 0s - loss: 0.6155 - accuracy: 0.7590\n",
      "Epoch 12: saving model to sayel\n",
      "INFO:tensorflow:Assets written to: sayel/assets\n",
      "82/82 [==============================] - 2s 24ms/step - loss: 0.6179 - accuracy: 0.7586 - val_loss: 0.3831 - val_accuracy: 0.8676\n",
      "Epoch 13/500\n",
      "79/82 [===========================>..] - ETA: 0s - loss: 0.6608 - accuracy: 0.7608\n",
      "Epoch 13: saving model to sayel\n",
      "INFO:tensorflow:Assets written to: sayel/assets\n",
      "82/82 [==============================] - 2s 29ms/step - loss: 0.6619 - accuracy: 0.7586 - val_loss: 0.4203 - val_accuracy: 0.9069\n",
      "Epoch 14/500\n",
      "75/82 [==========================>...] - ETA: 0s - loss: 0.5994 - accuracy: 0.7627\n",
      "Epoch 14: saving model to sayel\n",
      "INFO:tensorflow:Assets written to: sayel/assets\n",
      "82/82 [==============================] - 2s 26ms/step - loss: 0.5928 - accuracy: 0.7696 - val_loss: 0.3762 - val_accuracy: 0.8578\n",
      "Epoch 15/500\n",
      "82/82 [==============================] - ETA: 0s - loss: 0.4982 - accuracy: 0.8100\n",
      "Epoch 15: saving model to sayel\n",
      "INFO:tensorflow:Assets written to: sayel/assets\n",
      "82/82 [==============================] - 2s 24ms/step - loss: 0.4982 - accuracy: 0.8100 - val_loss: 0.3036 - val_accuracy: 0.9167\n",
      "Epoch 16/500\n",
      "77/82 [===========================>..] - ETA: 0s - loss: 0.5419 - accuracy: 0.7792\n",
      "Epoch 16: saving model to sayel\n",
      "INFO:tensorflow:Assets written to: sayel/assets\n",
      "82/82 [==============================] - 2s 24ms/step - loss: 0.5392 - accuracy: 0.7782 - val_loss: 0.4419 - val_accuracy: 0.8725\n",
      "Epoch 17/500\n",
      "82/82 [==============================] - ETA: 0s - loss: 0.5786 - accuracy: 0.7868\n",
      "Epoch 17: saving model to sayel\n",
      "INFO:tensorflow:Assets written to: sayel/assets\n",
      "82/82 [==============================] - 2s 25ms/step - loss: 0.5786 - accuracy: 0.7868 - val_loss: 0.3555 - val_accuracy: 0.9167\n",
      "Epoch 18/500\n",
      "79/82 [===========================>..] - ETA: 0s - loss: 0.5121 - accuracy: 0.8051\n",
      "Epoch 18: saving model to sayel\n",
      "INFO:tensorflow:Assets written to: sayel/assets\n",
      "82/82 [==============================] - 2s 24ms/step - loss: 0.5065 - accuracy: 0.8100 - val_loss: 0.4263 - val_accuracy: 0.8382\n",
      "Epoch 19/500\n",
      "78/82 [===========================>..] - ETA: 0s - loss: 0.4799 - accuracy: 0.8141\n",
      "Epoch 19: saving model to sayel\n",
      "INFO:tensorflow:Assets written to: sayel/assets\n",
      "82/82 [==============================] - 2s 26ms/step - loss: 0.4746 - accuracy: 0.8162 - val_loss: 0.3491 - val_accuracy: 0.9216\n",
      "Epoch 20/500\n",
      "81/82 [============================>.] - ETA: 0s - loss: 0.4554 - accuracy: 0.8432\n",
      "Epoch 20: saving model to sayel\n",
      "INFO:tensorflow:Assets written to: sayel/assets\n",
      "82/82 [==============================] - 2s 30ms/step - loss: 0.4531 - accuracy: 0.8444 - val_loss: 0.3233 - val_accuracy: 0.9069\n",
      "Epoch 20: early stopping\n"
     ]
    },
    {
     "data": {
      "image/png": "[encoded data removed]",
      "text/plain": [
       "<Figure size 432x288 with 1 Axes>"
      ]
     },
     "metadata": {
      "needs_background": "light"
     },
     "output_type": "display_data"
    },
    {
     "data": {
      "image/png": "[encoded data removed]",
      "text/plain": [
       "<Figure size 432x288 with 1 Axes>"
      ]
     },
     "metadata": {
      "needs_background": "light"
     },
     "output_type": "display_data"
    },
    {
     "name": "stdout",
     "output_type": "stream",
     "text": [
      "11/11 [==============================] - 0s 4ms/step\n",
      "Accuracy =  0.8794117647058823\n",
      "f1 micro =  0.8794117647058822\n",
      "f1 macro =  0.7706251637054523\n",
      "f1 all =  [0.9        0.81967213 0.         1.         0.86877828 0.99236641\n",
      " 0.81355932]\n",
      "prec micro =  0.8794117647058823\n",
      "prec macro =  0.7743637976929902\n",
      "prec all =  [0.97826087 0.71428571 0.         1.         0.768      1.\n",
      " 0.96      ]\n",
      "recall micro =  0.8794117647058823\n",
      "recall macro =  0.7836575189516367\n",
      "recall all =  [0.83333333 0.96153846 0.         1.         1.         0.98484848\n",
      " 0.70588235]\n"
     ]
    },
    {
     "name": "stderr",
     "output_type": "stream",
     "text": [
      "/Users/sayel/opt/anaconda3/envs/tf/lib/python3.10/site-packages/sklearn/metrics/_classification.py:1327: UndefinedMetricWarning:\n",
      "\n",
      "Precision is ill-defined and being set to 0.0 in labels with no predicted samples. Use `zero_division` parameter to control this behavior.\n",
      "\n",
      "/Users/sayel/opt/anaconda3/envs/tf/lib/python3.10/site-packages/sklearn/metrics/_classification.py:1327: UndefinedMetricWarning:\n",
      "\n",
      "Precision is ill-defined and being set to 0.0 in labels with no predicted samples. Use `zero_division` parameter to control this behavior.\n",
      "\n"
     ]
    },
    {
     "name": "stdout",
     "output_type": "stream",
     "text": [
      "AxesSubplot(0.125,0.125;0.62x0.755)\n"
     ]
    },
    {
     "data": {
      "image/png": "[encoded data removed]",
      "text/plain": [
       "<Figure size 432x288 with 2 Axes>"
      ]
     },
     "metadata": {
      "needs_background": "light"
     },
     "output_type": "display_data"
    }
   ],
   "source": [
    "X_2 = d_2.drop(columns = ['label']).values\n",
    "y_2 = d_2['label'].values\n",
    "Scores=My_model(X_2,y_2)\n",
    "\n"
   ]
  },
  {
   "cell_type": "code",
   "execution_count": 28,
   "id": "47cede66",
   "metadata": {
    "scrolled": false
   },
   "outputs": [
    {
     "name": "stdout",
     "output_type": "stream",
     "text": [
      "2049\n",
      "Epoch 1/500\n",
      "80/82 [============================>.] - ETA: 0s - loss: 6.7710 - accuracy: 0.2900\n",
      "Epoch 1: saving model to sayel\n",
      "INFO:tensorflow:Assets written to: sayel/assets\n",
      "82/82 [==============================] - 4s 36ms/step - loss: 6.7011 - accuracy: 0.2941 - val_loss: 1.5419 - val_accuracy: 0.4755\n",
      "Epoch 2/500\n",
      "81/82 [============================>.] - ETA: 0s - loss: 1.8357 - accuracy: 0.3778\n",
      "Epoch 2: saving model to sayel\n",
      "INFO:tensorflow:Assets written to: sayel/assets\n",
      "82/82 [==============================] - 3s 34ms/step - loss: 1.8307 - accuracy: 0.3775 - val_loss: 1.2075 - val_accuracy: 0.5147\n",
      "Epoch 3/500\n",
      "82/82 [==============================] - ETA: 0s - loss: 1.4163 - accuracy: 0.4436\n",
      "Epoch 3: saving model to sayel\n",
      "INFO:tensorflow:Assets written to: sayel/assets\n",
      "82/82 [==============================] - 3s 35ms/step - loss: 1.4163 - accuracy: 0.4436 - val_loss: 1.1164 - val_accuracy: 0.4265\n",
      "Epoch 4/500\n",
      "80/82 [============================>.] - ETA: 0s - loss: 1.2576 - accuracy: 0.4850\n",
      "Epoch 4: saving model to sayel\n",
      "INFO:tensorflow:Assets written to: sayel/assets\n",
      "82/82 [==============================] - 3s 36ms/step - loss: 1.2476 - accuracy: 0.4926 - val_loss: 0.8350 - val_accuracy: 0.7353\n",
      "Epoch 5/500\n",
      "81/82 [============================>.] - ETA: 0s - loss: 1.0231 - accuracy: 0.5778\n",
      "Epoch 5: saving model to sayel\n",
      "INFO:tensorflow:Assets written to: sayel/assets\n",
      "82/82 [==============================] - 2s 30ms/step - loss: 1.0203 - accuracy: 0.5784 - val_loss: 1.0858 - val_accuracy: 0.4608\n",
      "Epoch 6/500\n",
      "82/82 [==============================] - ETA: 0s - loss: 0.8505 - accuracy: 0.6385\n",
      "Epoch 6: saving model to sayel\n",
      "INFO:tensorflow:Assets written to: sayel/assets\n",
      "82/82 [==============================] - 3s 39ms/step - loss: 0.8505 - accuracy: 0.6385 - val_loss: 0.6292 - val_accuracy: 0.7549\n",
      "Epoch 7/500\n",
      "78/82 [===========================>..] - ETA: 0s - loss: 0.7983 - accuracy: 0.6308\n",
      "Epoch 7: saving model to sayel\n",
      "INFO:tensorflow:Assets written to: sayel/assets\n",
      "82/82 [==============================] - 3s 34ms/step - loss: 0.7992 - accuracy: 0.6324 - val_loss: 0.6455 - val_accuracy: 0.6275\n",
      "Epoch 8/500\n",
      "82/82 [==============================] - ETA: 0s - loss: 0.7793 - accuracy: 0.6422\n",
      "Epoch 8: saving model to sayel\n",
      "INFO:tensorflow:Assets written to: sayel/assets\n",
      "82/82 [==============================] - 3s 30ms/step - loss: 0.7793 - accuracy: 0.6422 - val_loss: 0.4728 - val_accuracy: 0.8480\n",
      "Epoch 9/500\n",
      "80/82 [============================>.] - ETA: 0s - loss: 0.6870 - accuracy: 0.7088\n",
      "Epoch 9: saving model to sayel\n",
      "INFO:tensorflow:Assets written to: sayel/assets\n",
      "82/82 [==============================] - 2s 30ms/step - loss: 0.6863 - accuracy: 0.7083 - val_loss: 0.4825 - val_accuracy: 0.8039\n",
      "Epoch 10/500\n",
      "82/82 [==============================] - ETA: 0s - loss: 0.6793 - accuracy: 0.7096\n",
      "Epoch 10: saving model to sayel\n",
      "INFO:tensorflow:Assets written to: sayel/assets\n",
      "82/82 [==============================] - 3s 31ms/step - loss: 0.6793 - accuracy: 0.7096 - val_loss: 0.3975 - val_accuracy: 0.7794\n",
      "Epoch 11/500\n",
      "78/82 [===========================>..] - ETA: 0s - loss: 0.5872 - accuracy: 0.7397\n",
      "Epoch 11: saving model to sayel\n",
      "INFO:tensorflow:Assets written to: sayel/assets\n",
      "82/82 [==============================] - 3s 30ms/step - loss: 0.5849 - accuracy: 0.7402 - val_loss: 0.5766 - val_accuracy: 0.6373\n",
      "Epoch 12/500\n",
      "78/82 [===========================>..] - ETA: 0s - loss: 0.5892 - accuracy: 0.7462\n",
      "Epoch 12: saving model to sayel\n",
      "INFO:tensorflow:Assets written to: sayel/assets\n",
      "82/82 [==============================] - 3s 32ms/step - loss: 0.5867 - accuracy: 0.7488 - val_loss: 0.4002 - val_accuracy: 0.8284\n",
      "Epoch 13/500\n",
      "78/82 [===========================>..] - ETA: 0s - loss: 0.5439 - accuracy: 0.7667\n",
      "Epoch 13: saving model to sayel\n",
      "INFO:tensorflow:Assets written to: sayel/assets\n",
      "82/82 [==============================] - 4s 52ms/step - loss: 0.5390 - accuracy: 0.7696 - val_loss: 0.3322 - val_accuracy: 0.9363\n",
      "Epoch 14/500\n",
      "82/82 [==============================] - ETA: 0s - loss: 0.6071 - accuracy: 0.7402\n",
      "Epoch 14: saving model to sayel\n",
      "INFO:tensorflow:Assets written to: sayel/assets\n",
      "82/82 [==============================] - 3s 31ms/step - loss: 0.6071 - accuracy: 0.7402 - val_loss: 0.3637 - val_accuracy: 0.8775\n",
      "Epoch 15/500\n",
      "81/82 [============================>.] - ETA: 0s - loss: 0.5559 - accuracy: 0.7531\n",
      "Epoch 15: saving model to sayel\n",
      "INFO:tensorflow:Assets written to: sayel/assets\n",
      "82/82 [==============================] - 3s 34ms/step - loss: 0.5569 - accuracy: 0.7525 - val_loss: 0.5398 - val_accuracy: 0.7451\n",
      "Epoch 16/500\n",
      "78/82 [===========================>..] - ETA: 0s - loss: 0.5013 - accuracy: 0.7821\n",
      "Epoch 16: saving model to sayel\n",
      "INFO:tensorflow:Assets written to: sayel/assets\n",
      "82/82 [==============================] - 3s 34ms/step - loss: 0.5211 - accuracy: 0.7733 - val_loss: 0.4411 - val_accuracy: 0.7549\n",
      "Epoch 17/500\n",
      "82/82 [==============================] - ETA: 0s - loss: 0.4757 - accuracy: 0.8002\n",
      "Epoch 17: saving model to sayel\n",
      "INFO:tensorflow:Assets written to: sayel/assets\n",
      "82/82 [==============================] - 3s 31ms/step - loss: 0.4757 - accuracy: 0.8002 - val_loss: 0.4152 - val_accuracy: 0.8137\n",
      "Epoch 18/500\n",
      "81/82 [============================>.] - ETA: 0s - loss: 0.5529 - accuracy: 0.7667\n",
      "Epoch 18: saving model to sayel\n",
      "INFO:tensorflow:Assets written to: sayel/assets\n",
      "82/82 [==============================] - 2s 30ms/step - loss: 0.5515 - accuracy: 0.7659 - val_loss: 0.3642 - val_accuracy: 0.8186\n",
      "Epoch 18: early stopping\n"
     ]
    },
    {
     "data": {
      "image/png": "[encoded data removed]",
      "text/plain": [
       "<Figure size 432x288 with 1 Axes>"
      ]
     },
     "metadata": {
      "needs_background": "light"
     },
     "output_type": "display_data"
    },
    {
     "data": {
      "image/png": "[encoded data removed]",
      "text/plain": [
       "<Figure size 432x288 with 1 Axes>"
      ]
     },
     "metadata": {
      "needs_background": "light"
     },
     "output_type": "display_data"
    },
    {
     "name": "stdout",
     "output_type": "stream",
     "text": [
      "11/11 [==============================] - 0s 4ms/step\n",
      "Accuracy =  0.8529411764705882\n",
      "f1 micro =  0.8529411764705882\n",
      "f1 macro =  0.8036604115037793\n",
      "f1 all =  [0.96470588 0.87878788 0.58064516 0.93103448 0.94230769 0.55263158\n",
      " 0.7755102 ]\n",
      "prec micro =  0.8529411764705882\n",
      "prec macro =  0.8491881870050074\n",
      "prec all =  [1.         0.90625    0.64285714 0.87096774 0.89090909 1.\n",
      " 0.63333333]\n",
      "recall micro =  0.8529411764705882\n",
      "recall macro =  0.813712757830405\n",
      "recall all =  [0.93181818 0.85294118 0.52941176 1.         1.         0.38181818\n",
      " 1.        ]\n",
      "AxesSubplot(0.125,0.125;0.62x0.755)\n"
     ]
    },
    {
     "data": {
      "image/png": "[encoded data removed]",
      "text/plain": [
       "<Figure size 432x288 with 2 Axes>"
      ]
     },
     "metadata": {
      "needs_background": "light"
     },
     "output_type": "display_data"
    }
   ],
   "source": [
    "X_3 = d_3.drop(columns = ['label']).values\n",
    "y_3 = d_3['label'].values\n",
    "Scores=My_model(X_3,y_3)\n",
    "\n"
   ]
  },
  {
   "cell_type": "code",
   "execution_count": 29,
   "id": "0bc0cb68",
   "metadata": {
    "scrolled": false
   },
   "outputs": [
    {
     "name": "stdout",
     "output_type": "stream",
     "text": [
      "2049\n",
      "Epoch 1/500\n",
      "79/82 [===========================>..] - ETA: 0s - loss: 5.5954 - accuracy: 0.4380\n",
      "Epoch 1: saving model to sayel\n",
      "INFO:tensorflow:Assets written to: sayel/assets\n",
      "82/82 [==============================] - 6s 61ms/step - loss: 5.4565 - accuracy: 0.4461 - val_loss: 0.7311 - val_accuracy: 0.7108\n",
      "Epoch 2/500\n",
      "80/82 [============================>.] - ETA: 0s - loss: 1.1631 - accuracy: 0.6737\n",
      "Epoch 2: saving model to sayel\n",
      "INFO:tensorflow:Assets written to: sayel/assets\n",
      "82/82 [==============================] - 3s 33ms/step - loss: 1.1620 - accuracy: 0.6728 - val_loss: 0.4374 - val_accuracy: 0.8529\n",
      "Epoch 3/500\n",
      "82/82 [==============================] - ETA: 0s - loss: 0.7348 - accuracy: 0.7770\n",
      "Epoch 3: saving model to sayel\n",
      "INFO:tensorflow:Assets written to: sayel/assets\n",
      "82/82 [==============================] - 2s 28ms/step - loss: 0.7348 - accuracy: 0.7770 - val_loss: 0.6137 - val_accuracy: 0.8039\n",
      "Epoch 4/500\n",
      "81/82 [============================>.] - ETA: 0s - loss: 0.5167 - accuracy: 0.8457\n",
      "Epoch 4: saving model to sayel\n",
      "INFO:tensorflow:Assets written to: sayel/assets\n",
      "82/82 [==============================] - 3s 38ms/step - loss: 0.5135 - accuracy: 0.8468 - val_loss: 0.2800 - val_accuracy: 0.9069\n",
      "Epoch 5/500\n",
      "80/82 [============================>.] - ETA: 0s - loss: 0.3612 - accuracy: 0.8763\n",
      "Epoch 5: saving model to sayel\n",
      "INFO:tensorflow:Assets written to: sayel/assets\n",
      "82/82 [==============================] - 3s 37ms/step - loss: 0.3551 - accuracy: 0.8787 - val_loss: 0.3166 - val_accuracy: 0.8971\n",
      "Epoch 6/500\n",
      "79/82 [===========================>..] - ETA: 0s - loss: 0.2838 - accuracy: 0.9152\n",
      "Epoch 6: saving model to sayel\n",
      "INFO:tensorflow:Assets written to: sayel/assets\n",
      "82/82 [==============================] - 3s 33ms/step - loss: 0.2821 - accuracy: 0.9154 - val_loss: 0.2195 - val_accuracy: 0.9314\n",
      "Epoch 7/500\n",
      "81/82 [============================>.] - ETA: 0s - loss: 0.2646 - accuracy: 0.9074\n",
      "Epoch 7: saving model to sayel\n",
      "INFO:tensorflow:Assets written to: sayel/assets\n",
      "82/82 [==============================] - 3s 42ms/step - loss: 0.2662 - accuracy: 0.9069 - val_loss: 0.3356 - val_accuracy: 0.8775\n",
      "Epoch 8/500\n",
      "80/82 [============================>.] - ETA: 0s - loss: 0.2105 - accuracy: 0.9237\n",
      "Epoch 8: saving model to sayel\n",
      "INFO:tensorflow:Assets written to: sayel/assets\n",
      "82/82 [==============================] - 3s 33ms/step - loss: 0.2167 - accuracy: 0.9228 - val_loss: 0.3885 - val_accuracy: 0.8775\n",
      "Epoch 9/500\n",
      "81/82 [============================>.] - ETA: 0s - loss: 0.1654 - accuracy: 0.9407\n",
      "Epoch 9: saving model to sayel\n",
      "INFO:tensorflow:Assets written to: sayel/assets\n",
      "82/82 [==============================] - 3s 31ms/step - loss: 0.1648 - accuracy: 0.9412 - val_loss: 0.2689 - val_accuracy: 0.9216\n",
      "Epoch 10/500\n",
      "80/82 [============================>.] - ETA: 0s - loss: 0.1444 - accuracy: 0.9488\n",
      "Epoch 10: saving model to sayel\n",
      "INFO:tensorflow:Assets written to: sayel/assets\n",
      "82/82 [==============================] - 3s 31ms/step - loss: 0.1416 - accuracy: 0.9498 - val_loss: 0.2441 - val_accuracy: 0.9069\n",
      "Epoch 11/500\n",
      "79/82 [===========================>..] - ETA: 0s - loss: 0.1035 - accuracy: 0.9570\n",
      "Epoch 11: saving model to sayel\n",
      "INFO:tensorflow:Assets written to: sayel/assets\n",
      "82/82 [==============================] - 3s 33ms/step - loss: 0.1105 - accuracy: 0.9559 - val_loss: 0.2901 - val_accuracy: 0.9265\n",
      "Epoch 11: early stopping\n"
     ]
    },
    {
     "data": {
      "image/png": "[encoded data removed]",
      "text/plain": [
       "<Figure size 432x288 with 1 Axes>"
      ]
     },
     "metadata": {
      "needs_background": "light"
     },
     "output_type": "display_data"
    },
    {
     "data": {
      "image/png": "[encoded data removed]",
      "text/plain": [
       "<Figure size 432x288 with 1 Axes>"
      ]
     },
     "metadata": {
      "needs_background": "light"
     },
     "output_type": "display_data"
    },
    {
     "name": "stdout",
     "output_type": "stream",
     "text": [
      "11/11 [==============================] - 0s 6ms/step\n",
      "Accuracy =  0.9470588235294117\n",
      "f1 micro =  0.9470588235294117\n",
      "f1 macro =  0.9472418387130447\n",
      "f1 all =  [0.98850575 0.97142857 0.90909091 0.96153846 0.93121693 0.93220339\n",
      " 0.93670886]\n",
      "prec micro =  0.9470588235294117\n",
      "prec macro =  0.946347472697647\n",
      "prec all =  [1.         0.94444444 0.9375     1.         0.96703297 0.87301587\n",
      " 0.90243902]\n",
      "recall micro =  0.9470588235294117\n",
      "recall macro =  0.9510278555107012\n",
      "recall all =  [0.97727273 1.         0.88235294 0.92592593 0.89795918 1.\n",
      " 0.97368421]\n",
      "AxesSubplot(0.125,0.125;0.62x0.755)\n"
     ]
    },
    {
     "data": {
      "image/png": "[encoded data removed]",
      "text/plain": [
       "<Figure size 432x288 with 2 Axes>"
      ]
     },
     "metadata": {
      "needs_background": "light"
     },
     "output_type": "display_data"
    }
   ],
   "source": [
    "X_4 = d_4.drop(columns = ['label']).values\n",
    "y_4 = d_4['label'].values\n",
    "Scores=My_model(X_4,y_4)\n",
    "\n"
   ]
  },
  {
   "cell_type": "code",
   "execution_count": 30,
   "id": "f53245b0",
   "metadata": {
    "scrolled": false
   },
   "outputs": [
    {
     "name": "stdout",
     "output_type": "stream",
     "text": [
      "1921\n",
      "Epoch 1/500\n",
      "81/82 [============================>.] - ETA: 0s - loss: 5.2855 - accuracy: 0.3642\n",
      "Epoch 1: saving model to sayel\n",
      "INFO:tensorflow:Assets written to: sayel/assets\n",
      "82/82 [==============================] - 3s 30ms/step - loss: 5.2630 - accuracy: 0.3640 - val_loss: 0.6841 - val_accuracy: 0.7990\n",
      "Epoch 2/500\n",
      "82/82 [==============================] - ETA: 0s - loss: 1.4752 - accuracy: 0.5674\n",
      "Epoch 2: saving model to sayel\n",
      "INFO:tensorflow:Assets written to: sayel/assets\n",
      "82/82 [==============================] - 5s 64ms/step - loss: 1.4752 - accuracy: 0.5674 - val_loss: 0.4738 - val_accuracy: 0.8775\n",
      "Epoch 3/500\n",
      "80/82 [============================>.] - ETA: 0s - loss: 0.9062 - accuracy: 0.7113\n",
      "Epoch 3: saving model to sayel\n",
      "INFO:tensorflow:Assets written to: sayel/assets\n",
      "82/82 [==============================] - 2s 30ms/step - loss: 0.9007 - accuracy: 0.7120 - val_loss: 0.3236 - val_accuracy: 0.8333\n",
      "Epoch 4/500\n",
      "80/82 [============================>.] - ETA: 0s - loss: 0.6007 - accuracy: 0.8087\n",
      "Epoch 4: saving model to sayel\n",
      "INFO:tensorflow:Assets written to: sayel/assets\n",
      "82/82 [==============================] - 3s 32ms/step - loss: 0.6060 - accuracy: 0.8076 - val_loss: 0.1235 - val_accuracy: 0.9559\n",
      "Epoch 5/500\n",
      "82/82 [==============================] - ETA: 0s - loss: 0.4264 - accuracy: 0.8480\n",
      "Epoch 5: saving model to sayel\n",
      "INFO:tensorflow:Assets written to: sayel/assets\n",
      "82/82 [==============================] - 4s 46ms/step - loss: 0.4264 - accuracy: 0.8480 - val_loss: 0.0818 - val_accuracy: 0.9804\n",
      "Epoch 6/500\n",
      "82/82 [==============================] - ETA: 0s - loss: 0.2449 - accuracy: 0.9179\n",
      "Epoch 6: saving model to sayel\n",
      "INFO:tensorflow:Assets written to: sayel/assets\n",
      "82/82 [==============================] - 4s 46ms/step - loss: 0.2449 - accuracy: 0.9179 - val_loss: 0.1016 - val_accuracy: 0.9657\n",
      "Epoch 7/500\n",
      "81/82 [============================>.] - ETA: 0s - loss: 0.1768 - accuracy: 0.9395\n",
      "Epoch 7: saving model to sayel\n",
      "INFO:tensorflow:Assets written to: sayel/assets\n",
      "82/82 [==============================] - 3s 35ms/step - loss: 0.1769 - accuracy: 0.9387 - val_loss: 0.0875 - val_accuracy: 0.9657\n",
      "Epoch 8/500\n",
      "80/82 [============================>.] - ETA: 0s - loss: 0.1854 - accuracy: 0.9400\n",
      "Epoch 8: saving model to sayel\n",
      "INFO:tensorflow:Assets written to: sayel/assets\n",
      "82/82 [==============================] - 3s 33ms/step - loss: 0.1914 - accuracy: 0.9375 - val_loss: 0.0669 - val_accuracy: 0.9804\n",
      "Epoch 9/500\n",
      "80/82 [============================>.] - ETA: 0s - loss: 0.0966 - accuracy: 0.9688\n",
      "Epoch 9: saving model to sayel\n",
      "INFO:tensorflow:Assets written to: sayel/assets\n",
      "82/82 [==============================] - 3s 37ms/step - loss: 0.0964 - accuracy: 0.9694 - val_loss: 0.0480 - val_accuracy: 0.9755\n",
      "Epoch 10/500\n",
      "79/82 [===========================>..] - ETA: 0s - loss: 0.1123 - accuracy: 0.9620\n",
      "Epoch 10: saving model to sayel\n",
      "INFO:tensorflow:Assets written to: sayel/assets\n",
      "82/82 [==============================] - 3s 32ms/step - loss: 0.1102 - accuracy: 0.9632 - val_loss: 0.0551 - val_accuracy: 0.9804\n",
      "Epoch 11/500\n",
      "82/82 [==============================] - ETA: 0s - loss: 0.0962 - accuracy: 0.9706\n",
      "Epoch 11: saving model to sayel\n",
      "INFO:tensorflow:Assets written to: sayel/assets\n",
      "82/82 [==============================] - 3s 31ms/step - loss: 0.0962 - accuracy: 0.9706 - val_loss: 0.1338 - val_accuracy: 0.9608\n",
      "Epoch 12/500\n",
      "82/82 [==============================] - ETA: 0s - loss: 0.1103 - accuracy: 0.9706\n",
      "Epoch 12: saving model to sayel\n",
      "INFO:tensorflow:Assets written to: sayel/assets\n",
      "82/82 [==============================] - 3s 31ms/step - loss: 0.1103 - accuracy: 0.9706 - val_loss: 0.0404 - val_accuracy: 0.9902\n",
      "Epoch 13/500\n",
      "81/82 [============================>.] - ETA: 0s - loss: 0.0739 - accuracy: 0.9728\n",
      "Epoch 13: saving model to sayel\n",
      "INFO:tensorflow:Assets written to: sayel/assets\n",
      "82/82 [==============================] - 2s 30ms/step - loss: 0.0734 - accuracy: 0.9730 - val_loss: 0.0257 - val_accuracy: 0.9902\n",
      "Epoch 14/500\n",
      "80/82 [============================>.] - ETA: 0s - loss: 0.0529 - accuracy: 0.9812\n",
      "Epoch 14: saving model to sayel\n",
      "INFO:tensorflow:Assets written to: sayel/assets\n",
      "82/82 [==============================] - 3s 34ms/step - loss: 0.0533 - accuracy: 0.9804 - val_loss: 0.0336 - val_accuracy: 0.9853\n",
      "Epoch 15/500\n",
      "81/82 [============================>.] - ETA: 0s - loss: 0.0865 - accuracy: 0.9691\n",
      "Epoch 15: saving model to sayel\n",
      "INFO:tensorflow:Assets written to: sayel/assets\n",
      "82/82 [==============================] - 3s 31ms/step - loss: 0.0861 - accuracy: 0.9694 - val_loss: 0.0390 - val_accuracy: 0.9755\n",
      "Epoch 16/500\n",
      "81/82 [============================>.] - ETA: 0s - loss: 0.0587 - accuracy: 0.9790\n",
      "Epoch 16: saving model to sayel\n",
      "INFO:tensorflow:Assets written to: sayel/assets\n",
      "82/82 [==============================] - 3s 37ms/step - loss: 0.0583 - accuracy: 0.9792 - val_loss: 0.0650 - val_accuracy: 0.9853\n",
      "Epoch 17/500\n",
      "82/82 [==============================] - ETA: 0s - loss: 0.0694 - accuracy: 0.9779\n",
      "Epoch 17: saving model to sayel\n",
      "INFO:tensorflow:Assets written to: sayel/assets\n",
      "82/82 [==============================] - 3s 32ms/step - loss: 0.0694 - accuracy: 0.9779 - val_loss: 0.0578 - val_accuracy: 0.9706\n",
      "Epoch 18/500\n",
      "82/82 [==============================] - ETA: 0s - loss: 0.0573 - accuracy: 0.9828\n",
      "Epoch 18: saving model to sayel\n",
      "INFO:tensorflow:Assets written to: sayel/assets\n",
      "82/82 [==============================] - 3s 31ms/step - loss: 0.0573 - accuracy: 0.9828 - val_loss: 0.0493 - val_accuracy: 0.9853\n",
      "Epoch 18: early stopping\n"
     ]
    },
    {
     "data": {
      "image/png": "[encoded data removed]",
      "text/plain": [
       "<Figure size 432x288 with 1 Axes>"
      ]
     },
     "metadata": {
      "needs_background": "light"
     },
     "output_type": "display_data"
    },
    {
     "data": {
      "image/png": "[encoded data removed]",
      "text/plain": [
       "<Figure size 432x288 with 1 Axes>"
      ]
     },
     "metadata": {
      "needs_background": "light"
     },
     "output_type": "display_data"
    },
    {
     "name": "stdout",
     "output_type": "stream",
     "text": [
      "11/11 [==============================] - 0s 10ms/step\n",
      "Accuracy =  0.9852941176470589\n",
      "f1 micro =  0.9852941176470589\n",
      "f1 macro =  0.9887558651483946\n",
      "f1 all =  [1.         1.         1.         0.99082569 0.97916667 0.96428571\n",
      " 0.98701299]\n",
      "prec micro =  0.9852941176470589\n",
      "prec macro =  0.9862207967471127\n",
      "prec all =  [1.         1.         1.         0.98181818 1.         0.94736842\n",
      " 0.97435897]\n",
      "recall micro =  0.9852941176470589\n",
      "recall macro =  0.99157169361251\n",
      "recall all =  [1.         1.         1.         1.         0.95918367 0.98181818\n",
      " 1.        ]\n",
      "AxesSubplot(0.125,0.125;0.62x0.755)\n"
     ]
    },
    {
     "data": {
      "image/png": "[encoded data removed]",
      "text/plain": [
       "<Figure size 432x288 with 2 Axes>"
      ]
     },
     "metadata": {
      "needs_background": "light"
     },
     "output_type": "display_data"
    }
   ],
   "source": [
    "X_5 = d_5.drop(columns = ['label']).values\n",
    "y_5 = d_5['label'].values\n",
    "Scores=My_model(X_5,y_5)\n",
    "\n"
   ]
  },
  {
   "cell_type": "code",
   "execution_count": null,
   "id": "1c7c9d31",
   "metadata": {},
   "outputs": [],
   "source": []
  },
  {
   "cell_type": "code",
   "execution_count": null,
   "id": "fed833f7",
   "metadata": {},
   "outputs": [],
   "source": []
  },
  {
   "cell_type": "code",
   "execution_count": null,
   "id": "c7a982b1",
   "metadata": {},
   "outputs": [],
   "source": []
  },
  {
   "cell_type": "code",
   "execution_count": null,
   "id": "721d12e6",
   "metadata": {
    "scrolled": false
   },
   "outputs": [],
   "source": []
  },
  {
   "cell_type": "code",
   "execution_count": null,
   "id": "667269a8",
   "metadata": {},
   "outputs": [],
   "source": []
  },
  {
   "cell_type": "code",
   "execution_count": null,
   "id": "9787731e",
   "metadata": {},
   "outputs": [],
   "source": []
  },
  {
   "cell_type": "code",
   "execution_count": null,
   "id": "b1d4749d",
   "metadata": {},
   "outputs": [],
   "source": []
  },
  {
   "cell_type": "code",
   "execution_count": null,
   "id": "7b293934",
   "metadata": {},
   "outputs": [],
   "source": []
  },
  {
   "cell_type": "code",
   "execution_count": null,
   "id": "2eea4e4d",
   "metadata": {},
   "outputs": [],
   "source": []
  }
 ],
 "metadata": {
  "kernelspec": {
   "display_name": "Python 3.10.4 ('tf')",
   "language": "python",
   "name": "python3"
  },
  "language_info": {
   "codemirror_mode": {
    "name": "ipython",
    "version": 3
   },
   "file_extension": ".py",
   "mimetype": "text/x-python",
   "name": "python",
   "nbconvert_exporter": "python",
   "pygments_lexer": "ipython3",
   "version": "3.10.4"
  },
  "vscode": {
   "interpreter": {
    "hash": "1df2ba12fe8cd8459e74b4a9a20dfaad086de3c9f36dffa4af89d763984cde53"
   }
  }
 },
 "nbformat": 4,
 "nbformat_minor": 5
}
